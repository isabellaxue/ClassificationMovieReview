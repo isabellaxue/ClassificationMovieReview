{
 "cells": [
  {
   "cell_type": "markdown",
   "metadata": {},
   "source": [
    "## STAT451 Project: IMDb movie review classification and prediction"
   ]
  },
  {
   "cell_type": "markdown",
   "metadata": {},
   "source": [
    "**Group 12: Isabella Xue, Freya Wan, Shuyuan Jia :)**"
   ]
  },
  {
   "cell_type": "code",
   "execution_count": 1,
   "metadata": {},
   "outputs": [],
   "source": [
    "import pandas as pd\n",
    "import matplotlib.pyplot as plt\n",
    "import matplotlib\n",
    "import seaborn as sns\n",
    "import statsmodels.api as sm\n",
    "import numpy as np\n",
    "import ssl\n",
    "from sklearn.metrics import classification_report\n",
    "from sklearn.metrics import confusion_matrix\n",
    "from sklearn.metrics import roc_curve\n",
    "from sklearn.metrics import roc_auc_score\n",
    "from sklearn.ensemble import VotingClassifier"
   ]
  },
  {
   "cell_type": "code",
   "execution_count": 2,
   "metadata": {},
   "outputs": [],
   "source": [
    "# set the font globally\n",
    "plt.rcParams.update({'font.family':'sans-serif'})\n"
   ]
  },
  {
   "cell_type": "code",
   "execution_count": 3,
   "metadata": {},
   "outputs": [],
   "source": [
    "df = pd.read_csv('IMDB Dataset.csv')"
   ]
  },
  {
   "cell_type": "code",
   "execution_count": 4,
   "metadata": {
    "scrolled": false
   },
   "outputs": [
    {
     "data": {
      "text/html": [
       "<div>\n",
       "<style scoped>\n",
       "    .dataframe tbody tr th:only-of-type {\n",
       "        vertical-align: middle;\n",
       "    }\n",
       "\n",
       "    .dataframe tbody tr th {\n",
       "        vertical-align: top;\n",
       "    }\n",
       "\n",
       "    .dataframe thead th {\n",
       "        text-align: right;\n",
       "    }\n",
       "</style>\n",
       "<table border=\"1\" class=\"dataframe\">\n",
       "  <thead>\n",
       "    <tr style=\"text-align: right;\">\n",
       "      <th></th>\n",
       "      <th>review</th>\n",
       "      <th>sentiment</th>\n",
       "    </tr>\n",
       "  </thead>\n",
       "  <tbody>\n",
       "    <tr>\n",
       "      <th>0</th>\n",
       "      <td>One of the other reviewers has mentioned that ...</td>\n",
       "      <td>positive</td>\n",
       "    </tr>\n",
       "    <tr>\n",
       "      <th>1</th>\n",
       "      <td>A wonderful little production. &lt;br /&gt;&lt;br /&gt;The...</td>\n",
       "      <td>positive</td>\n",
       "    </tr>\n",
       "    <tr>\n",
       "      <th>2</th>\n",
       "      <td>I thought this was a wonderful way to spend ti...</td>\n",
       "      <td>positive</td>\n",
       "    </tr>\n",
       "    <tr>\n",
       "      <th>3</th>\n",
       "      <td>Basically there's a family where a little boy ...</td>\n",
       "      <td>negative</td>\n",
       "    </tr>\n",
       "    <tr>\n",
       "      <th>4</th>\n",
       "      <td>Petter Mattei's \"Love in the Time of Money\" is...</td>\n",
       "      <td>positive</td>\n",
       "    </tr>\n",
       "  </tbody>\n",
       "</table>\n",
       "</div>"
      ],
      "text/plain": [
       "                                              review sentiment\n",
       "0  One of the other reviewers has mentioned that ...  positive\n",
       "1  A wonderful little production. <br /><br />The...  positive\n",
       "2  I thought this was a wonderful way to spend ti...  positive\n",
       "3  Basically there's a family where a little boy ...  negative\n",
       "4  Petter Mattei's \"Love in the Time of Money\" is...  positive"
      ]
     },
     "execution_count": 4,
     "metadata": {},
     "output_type": "execute_result"
    }
   ],
   "source": [
    "df.head()"
   ]
  },
  {
   "cell_type": "code",
   "execution_count": 5,
   "metadata": {},
   "outputs": [
    {
     "data": {
      "text/plain": [
       "<AxesSubplot:xlabel='sentiment', ylabel='count'>"
      ]
     },
     "execution_count": 5,
     "metadata": {},
     "output_type": "execute_result"
    },
    {
     "data": {
      "image/png": "[encoded data removed]",
      "text/plain": [
       "<Figure size 432x288 with 1 Axes>"
      ]
     },
     "metadata": {
      "needs_background": "light"
     },
     "output_type": "display_data"
    }
   ],
   "source": [
    "import seaborn as sn\n",
    "sn.countplot(x=\"sentiment\",data=df)"
   ]
  },
  {
   "cell_type": "code",
   "execution_count": 6,
   "metadata": {},
   "outputs": [
    {
     "data": {
      "text/plain": [
       "negative    25000\n",
       "positive    25000\n",
       "Name: sentiment, dtype: int64"
      ]
     },
     "execution_count": 6,
     "metadata": {},
     "output_type": "execute_result"
    }
   ],
   "source": [
    "df['sentiment'].value_counts()"
   ]
  },
  {
   "cell_type": "markdown",
   "metadata": {},
   "source": [
    "We can see that this dataset is balanced. The number of positive reviews and negative reviews are equal."
   ]
  },
  {
   "cell_type": "markdown",
   "metadata": {},
   "source": [
    "**Data Cleaning**"
   ]
  },
  {
   "cell_type": "code",
   "execution_count": 7,
   "metadata": {},
   "outputs": [
    {
     "data": {
      "text/html": [
       "<div>\n",
       "<style scoped>\n",
       "    .dataframe tbody tr th:only-of-type {\n",
       "        vertical-align: middle;\n",
       "    }\n",
       "\n",
       "    .dataframe tbody tr th {\n",
       "        vertical-align: top;\n",
       "    }\n",
       "\n",
       "    .dataframe thead th {\n",
       "        text-align: right;\n",
       "    }\n",
       "</style>\n",
       "<table border=\"1\" class=\"dataframe\">\n",
       "  <thead>\n",
       "    <tr style=\"text-align: right;\">\n",
       "      <th></th>\n",
       "      <th>review</th>\n",
       "      <th>sentiment</th>\n",
       "      <th>label</th>\n",
       "    </tr>\n",
       "  </thead>\n",
       "  <tbody>\n",
       "    <tr>\n",
       "      <th>0</th>\n",
       "      <td>One of the other reviewers has mentioned that ...</td>\n",
       "      <td>positive</td>\n",
       "      <td>1</td>\n",
       "    </tr>\n",
       "    <tr>\n",
       "      <th>1</th>\n",
       "      <td>A wonderful little production. &lt;br /&gt;&lt;br /&gt;The...</td>\n",
       "      <td>positive</td>\n",
       "      <td>1</td>\n",
       "    </tr>\n",
       "    <tr>\n",
       "      <th>2</th>\n",
       "      <td>I thought this was a wonderful way to spend ti...</td>\n",
       "      <td>positive</td>\n",
       "      <td>1</td>\n",
       "    </tr>\n",
       "    <tr>\n",
       "      <th>3</th>\n",
       "      <td>Basically there's a family where a little boy ...</td>\n",
       "      <td>negative</td>\n",
       "      <td>0</td>\n",
       "    </tr>\n",
       "    <tr>\n",
       "      <th>4</th>\n",
       "      <td>Petter Mattei's \"Love in the Time of Money\" is...</td>\n",
       "      <td>positive</td>\n",
       "      <td>1</td>\n",
       "    </tr>\n",
       "    <tr>\n",
       "      <th>5</th>\n",
       "      <td>Probably my all-time favorite movie, a story o...</td>\n",
       "      <td>positive</td>\n",
       "      <td>1</td>\n",
       "    </tr>\n",
       "    <tr>\n",
       "      <th>6</th>\n",
       "      <td>I sure would like to see a resurrection of a u...</td>\n",
       "      <td>positive</td>\n",
       "      <td>1</td>\n",
       "    </tr>\n",
       "    <tr>\n",
       "      <th>7</th>\n",
       "      <td>This show was an amazing, fresh &amp; innovative i...</td>\n",
       "      <td>negative</td>\n",
       "      <td>0</td>\n",
       "    </tr>\n",
       "    <tr>\n",
       "      <th>8</th>\n",
       "      <td>Encouraged by the positive comments about this...</td>\n",
       "      <td>negative</td>\n",
       "      <td>0</td>\n",
       "    </tr>\n",
       "    <tr>\n",
       "      <th>9</th>\n",
       "      <td>If you like original gut wrenching laughter yo...</td>\n",
       "      <td>positive</td>\n",
       "      <td>1</td>\n",
       "    </tr>\n",
       "  </tbody>\n",
       "</table>\n",
       "</div>"
      ],
      "text/plain": [
       "                                              review sentiment  label\n",
       "0  One of the other reviewers has mentioned that ...  positive      1\n",
       "1  A wonderful little production. <br /><br />The...  positive      1\n",
       "2  I thought this was a wonderful way to spend ti...  positive      1\n",
       "3  Basically there's a family where a little boy ...  negative      0\n",
       "4  Petter Mattei's \"Love in the Time of Money\" is...  positive      1\n",
       "5  Probably my all-time favorite movie, a story o...  positive      1\n",
       "6  I sure would like to see a resurrection of a u...  positive      1\n",
       "7  This show was an amazing, fresh & innovative i...  negative      0\n",
       "8  Encouraged by the positive comments about this...  negative      0\n",
       "9  If you like original gut wrenching laughter yo...  positive      1"
      ]
     },
     "execution_count": 7,
     "metadata": {},
     "output_type": "execute_result"
    }
   ],
   "source": [
    "# !pip install contractions\n",
    "import contractions  # This package is used to replace the contractions in English language with their actual forms\n",
    "from tqdm import tqdm  # tqdm is used to display the percentage of work done by a for loop.\n",
    "import nltk\n",
    "import re\n",
    "import time\n",
    "#ssl._create_default_https_context = ssl._create_unverified_context\n",
    "#nltk.download('stopwords')\n",
    "from nltk.corpus import stopwords\n",
    "\n",
    "stopwords=stopwords.words('english')\n",
    "# Removing stopwords 'no','nor' and 'not'\n",
    "stopwords.remove('no')\n",
    "stopwords.remove('nor')\n",
    "stopwords.remove('not')\n",
    "\n",
    "df['label'] = df['sentiment'].apply(lambda x: 1 if x=='positive' else 0)\n",
    "df.head(10)"
   ]
  },
  {
   "cell_type": "code",
   "execution_count": 8,
   "metadata": {},
   "outputs": [
    {
     "name": "stderr",
     "output_type": "stream",
     "text": [
      "100%|██████████| 50000/50000 [00:25<00:00, 1959.35it/s]\n"
     ]
    }
   ],
   "source": [
    "clean_reviews=[]\n",
    "\n",
    "for i in tqdm(df['review']):\n",
    "    # Regular expression that removes all the html tags pressent in the reviews\n",
    "    i = re.sub('(<[\\w\\s]*/?>)',\"\",i)\n",
    "    # Expanding all the contractions present in the review to is respective actual form\n",
    "    i = contractions.fix(i)\n",
    "    # Removing all the special charactesrs from the review text\n",
    "    i = re.sub('[^a-zA-Z0-9\\s]+',\"\",i)\n",
    "    # Removing all the digits present in the review text\n",
    "    i = re.sub('\\d+',\"\",i)\n",
    "    # processed_reviews.append(\" \".join([lemmatizer.lemmatize(j.lower()) for j in i.split() if j not in stopwords and len(j)>=3]))\n",
    "    clean_reviews.append(\" \".join([j.lower() for j in i.split() if j not in stopwords and len(j)>=3]))"
   ]
  },
  {
   "cell_type": "code",
   "execution_count": 9,
   "metadata": {},
   "outputs": [
    {
     "data": {
      "text/html": [
       "<div>\n",
       "<style scoped>\n",
       "    .dataframe tbody tr th:only-of-type {\n",
       "        vertical-align: middle;\n",
       "    }\n",
       "\n",
       "    .dataframe tbody tr th {\n",
       "        vertical-align: top;\n",
       "    }\n",
       "\n",
       "    .dataframe thead th {\n",
       "        text-align: right;\n",
       "    }\n",
       "</style>\n",
       "<table border=\"1\" class=\"dataframe\">\n",
       "  <thead>\n",
       "    <tr style=\"text-align: right;\">\n",
       "      <th></th>\n",
       "      <th>review</th>\n",
       "      <th>label</th>\n",
       "    </tr>\n",
       "  </thead>\n",
       "  <tbody>\n",
       "    <tr>\n",
       "      <th>0</th>\n",
       "      <td>one reviewers mentioned watching episode hooke...</td>\n",
       "      <td>1</td>\n",
       "    </tr>\n",
       "    <tr>\n",
       "      <th>1</th>\n",
       "      <td>wonderful little production the filming techni...</td>\n",
       "      <td>1</td>\n",
       "    </tr>\n",
       "    <tr>\n",
       "      <th>2</th>\n",
       "      <td>thought wonderful way spend time hot summer we...</td>\n",
       "      <td>1</td>\n",
       "    </tr>\n",
       "    <tr>\n",
       "      <th>3</th>\n",
       "      <td>basically family little boy jake thinks zombie...</td>\n",
       "      <td>0</td>\n",
       "    </tr>\n",
       "    <tr>\n",
       "      <th>4</th>\n",
       "      <td>petter matteis love time money visually stunni...</td>\n",
       "      <td>1</td>\n",
       "    </tr>\n",
       "  </tbody>\n",
       "</table>\n",
       "</div>"
      ],
      "text/plain": [
       "                                              review  label\n",
       "0  one reviewers mentioned watching episode hooke...      1\n",
       "1  wonderful little production the filming techni...      1\n",
       "2  thought wonderful way spend time hot summer we...      1\n",
       "3  basically family little boy jake thinks zombie...      0\n",
       "4  petter matteis love time money visually stunni...      1"
      ]
     },
     "execution_count": 9,
     "metadata": {},
     "output_type": "execute_result"
    }
   ],
   "source": [
    "# Create a new datafram using the clean_reviews\n",
    "new_clean_df = pd.DataFrame({'review':clean_reviews,'label':list(df['label'])})\n",
    "new_clean_df.head()"
   ]
  },
  {
   "cell_type": "code",
   "execution_count": 10,
   "metadata": {},
   "outputs": [],
   "source": [
    "from nltk.stem.porter import PorterStemmer\n",
    "porter = PorterStemmer()\n",
    "\n",
    "def stemmer(text):\n",
    "    final = [porter.stem(word) for word in text.split()]\n",
    "    return final"
   ]
  },
  {
   "cell_type": "code",
   "execution_count": 11,
   "metadata": {},
   "outputs": [],
   "source": [
    "# stemmer(new_clean_df['review'][0])"
   ]
  },
  {
   "cell_type": "code",
   "execution_count": 12,
   "metadata": {},
   "outputs": [],
   "source": [
    "# vectoring by using tf-idf\n",
    "from sklearn.feature_extraction.text import TfidfVectorizer\n",
    "tfidf = TfidfVectorizer(strip_accents = None, lowercase = False, tokenizer = stemmer, use_idf = True, norm ='l2',smooth_idf = True )"
   ]
  },
  {
   "cell_type": "code",
   "execution_count": 13,
   "metadata": {},
   "outputs": [],
   "source": [
    "Y = new_clean_df['label']\n",
    "X = tfidf.fit_transform(new_clean_df.review)\n",
    "# Split the data: \n",
    "# 33% data will be used for testing and 67% will be used for training\n",
    "from sklearn.model_selection import train_test_split\n",
    "x_train,x_test,y_train,y_test = train_test_split(X, Y, stratify = Y, test_size = 0.33)"
   ]
  },
  {
   "cell_type": "markdown",
   "metadata": {},
   "source": [
    "## Create Baseline Model by using Random Forest"
   ]
  },
  {
   "cell_type": "markdown",
   "metadata": {},
   "source": [
    "### Random Forest"
   ]
  },
  {
   "cell_type": "code",
   "execution_count": 14,
   "metadata": {},
   "outputs": [
    {
     "name": "stdout",
     "output_type": "stream",
     "text": [
      "Training Accuracy: 100.000%\n",
      "Test Accuracy: 84.994%\n"
     ]
    }
   ],
   "source": [
    "from sklearn.ensemble import RandomForestClassifier\n",
    "clf = RandomForestClassifier(random_state=123)\n",
    "clf.fit(x_train, y_train)\n",
    "rf_t_accuracy = round(clf.score(x_test, y_test), 5)\n",
    "print(f\"Training Accuracy: {clf.score(x_train, y_train)*100:0.3f}%\")\n",
    "print(f\"Test Accuracy: {clf.score(x_test, y_test)*100:0.3f}%\")\n"
   ]
  },
  {
   "cell_type": "code",
   "execution_count": 15,
   "metadata": {},
   "outputs": [
    {
     "name": "stdout",
     "output_type": "stream",
     "text": [
      "Classification report: \n",
      "               precision    recall  f1-score   support\n",
      "\n",
      "           0       0.85      0.85      0.85      8250\n",
      "           1       0.85      0.85      0.85      8250\n",
      "\n",
      "    accuracy                           0.85     16500\n",
      "   macro avg       0.85      0.85      0.85     16500\n",
      "weighted avg       0.85      0.85      0.85     16500\n",
      " \n",
      "\n"
     ]
    },
    {
     "data": {
      "text/plain": [
       "Text(0.5, 1.0, 'RandomForest Confusion matrix')"
      ]
     },
     "execution_count": 15,
     "metadata": {},
     "output_type": "execute_result"
    },
    {
     "data": {
      "image/png": "[encoded data removed]",
      "text/plain": [
       "<Figure size 504x432 with 2 Axes>"
      ]
     },
     "metadata": {
      "needs_background": "light"
     },
     "output_type": "display_data"
    }
   ],
   "source": [
    "predicted = clf.predict(x_test)\n",
    "print(\"Classification report: \\n\", classification_report(y_test, predicted), \"\\n\")\n",
    "\n",
    "matrix = confusion_matrix(y_test, predicted)\n",
    "plt.figure(figsize = (7,6))\n",
    "sns.heatmap(matrix, annot=True, fmt='g', cmap='Greens')\n",
    "plt.xlabel(\"Predicted\")\n",
    "plt.ylabel(\"Actual\")\n",
    "plt.title(\"RandomForest Confusion matrix\")"
   ]
  },
  {
   "cell_type": "code",
   "execution_count": 16,
   "metadata": {},
   "outputs": [
    {
     "name": "stdout",
     "output_type": "stream",
     "text": [
      "No Skill: ROC AUC=0.500\n",
      "RandomForest: ROC AUC=0.925\n"
     ]
    },
    {
     "data": {
      "image/png": "[encoded data removed]",
      "text/plain": [
       "<Figure size 432x288 with 1 Axes>"
      ]
     },
     "metadata": {
      "needs_background": "light"
     },
     "output_type": "display_data"
    }
   ],
   "source": [
    "#no skill\n",
    "ns_probs = [0 for _ in range(len(y_test))]\n",
    "# predict probabilities\n",
    "clf_probs = clf.predict_proba(x_test)\n",
    "# keep probabilities for the positive outcome only\n",
    "clf_probs = clf_probs[:, 1]\n",
    "# calculate scores\n",
    "ns_auc = roc_auc_score(y_test, ns_probs)\n",
    "clf_auc = roc_auc_score(y_test, clf_probs)\n",
    "# summarize scores\n",
    "print('No Skill: ROC AUC=%.3f' % (ns_auc))\n",
    "print('RandomForest: ROC AUC=%.3f' % (clf_auc))\n",
    "# calculate roc curves\n",
    "ns_fpr, ns_tpr, _ = roc_curve(y_test, ns_probs)\n",
    "clf_fpr, clf_tpr, _ = roc_curve(y_test, clf_probs)\n",
    "# plot the roc curve for the model\n",
    "plt.plot(ns_fpr, ns_tpr, color='black', linestyle='dashed')\n",
    "plt.plot(clf_fpr, clf_tpr, color='green', label='RandomForest')\n",
    "# axis labels\n",
    "plt.xlabel('False Positive Rate')\n",
    "plt.ylabel('True Positive Rate')\n",
    "# show the legend\n",
    "plt.legend()\n",
    "# show the plot\n",
    "plt.show()\n",
    "\n",
    "#plt.savefig('RF_roc_curve.png')"
   ]
  },
  {
   "cell_type": "markdown",
   "metadata": {},
   "source": [
    "## Model selection"
   ]
  },
  {
   "cell_type": "markdown",
   "metadata": {},
   "source": [
    "### Logistic regression"
   ]
  },
  {
   "cell_type": "markdown",
   "metadata": {},
   "source": [
    "#### Original ('C': [10, 1.0, 0.1, 100]), validation score: 0.889"
   ]
  },
  {
   "cell_type": "code",
   "execution_count": 17,
   "metadata": {
    "scrolled": true
   },
   "outputs": [
    {
     "name": "stdout",
     "output_type": "stream",
     "text": [
      "Fitting 10 folds for each of 24 candidates, totalling 240 fits\n",
      "[CV] END .................C=10, penalty=l2, solver=newton-cg; total time=   2.0s\n",
      "[CV] END .................C=10, penalty=l2, solver=newton-cg; total time=   2.0s\n",
      "[CV] END .................C=10, penalty=l2, solver=newton-cg; total time=   1.9s\n",
      "[CV] END .................C=10, penalty=l2, solver=newton-cg; total time=   2.0s\n",
      "[CV] END .................C=10, penalty=l2, solver=newton-cg; total time=   1.9s\n",
      "[CV] END .................C=10, penalty=l2, solver=newton-cg; total time=   1.9s\n",
      "[CV] END .................C=10, penalty=l2, solver=newton-cg; total time=   1.9s\n",
      "[CV] END .................C=10, penalty=l2, solver=newton-cg; total time=   2.1s\n",
      "[CV] END .................C=10, penalty=l2, solver=newton-cg; total time=   2.0s\n",
      "[CV] END .................C=10, penalty=l2, solver=newton-cg; total time=   1.9s\n",
      "[CV] END .....................C=10, penalty=l2, solver=lbfgs; total time=   5.5s\n",
      "[CV] END .....................C=10, penalty=l2, solver=lbfgs; total time=   6.4s\n",
      "[CV] END .....................C=10, penalty=l2, solver=lbfgs; total time=   3.1s\n",
      "[CV] END .....................C=10, penalty=l2, solver=lbfgs; total time=   5.4s\n",
      "[CV] END .....................C=10, penalty=l2, solver=lbfgs; total time=   3.9s\n",
      "[CV] END .....................C=10, penalty=l2, solver=lbfgs; total time=   5.3s\n",
      "[CV] END .....................C=10, penalty=l2, solver=lbfgs; total time=   3.8s\n",
      "[CV] END .....................C=10, penalty=l2, solver=lbfgs; total time=   5.3s\n",
      "[CV] END .....................C=10, penalty=l2, solver=lbfgs; total time=   7.9s\n",
      "[CV] END .....................C=10, penalty=l2, solver=lbfgs; total time=   5.8s\n",
      "[CV] END .......................C=10, penalty=l2, solver=sag; total time=   1.4s\n",
      "[CV] END .......................C=10, penalty=l2, solver=sag; total time=   1.4s\n",
      "[CV] END .......................C=10, penalty=l2, solver=sag; total time=   1.5s\n",
      "[CV] END .......................C=10, penalty=l2, solver=sag; total time=   1.4s\n",
      "[CV] END .......................C=10, penalty=l2, solver=sag; total time=   1.6s\n",
      "[CV] END .......................C=10, penalty=l2, solver=sag; total time=   1.6s\n",
      "[CV] END .......................C=10, penalty=l2, solver=sag; total time=   1.7s\n",
      "[CV] END .......................C=10, penalty=l2, solver=sag; total time=   1.5s\n",
      "[CV] END .......................C=10, penalty=l2, solver=sag; total time=   1.5s\n",
      "[CV] END .......................C=10, penalty=l2, solver=sag; total time=   1.5s\n",
      "[CV] END .................C=10, penalty=l1, solver=newton-cg; total time=   0.0s\n",
      "[CV] END .................C=10, penalty=l1, solver=newton-cg; total time=   0.0s\n",
      "[CV] END .................C=10, penalty=l1, solver=newton-cg; total time=   0.0s\n",
      "[CV] END .................C=10, penalty=l1, solver=newton-cg; total time=   0.0s\n",
      "[CV] END .................C=10, penalty=l1, solver=newton-cg; total time=   0.0s\n",
      "[CV] END .................C=10, penalty=l1, solver=newton-cg; total time=   0.0s\n",
      "[CV] END .................C=10, penalty=l1, solver=newton-cg; total time=   0.0s\n",
      "[CV] END .................C=10, penalty=l1, solver=newton-cg; total time=   0.0s\n",
      "[CV] END .................C=10, penalty=l1, solver=newton-cg; total time=   0.0s\n",
      "[CV] END .................C=10, penalty=l1, solver=newton-cg; total time=   0.0s\n",
      "[CV] END .....................C=10, penalty=l1, solver=lbfgs; total time=   0.0s\n",
      "[CV] END .....................C=10, penalty=l1, solver=lbfgs; total time=   0.0s\n",
      "[CV] END .....................C=10, penalty=l1, solver=lbfgs; total time=   0.0s\n",
      "[CV] END .....................C=10, penalty=l1, solver=lbfgs; total time=   0.0s\n",
      "[CV] END .....................C=10, penalty=l1, solver=lbfgs; total time=   0.0s\n",
      "[CV] END .....................C=10, penalty=l1, solver=lbfgs; total time=   0.0s\n",
      "[CV] END .....................C=10, penalty=l1, solver=lbfgs; total time=   0.0s\n",
      "[CV] END .....................C=10, penalty=l1, solver=lbfgs; total time=   0.0s\n",
      "[CV] END .....................C=10, penalty=l1, solver=lbfgs; total time=   0.0s\n",
      "[CV] END .....................C=10, penalty=l1, solver=lbfgs; total time=   0.0s\n",
      "[CV] END .......................C=10, penalty=l1, solver=sag; total time=   0.0s\n",
      "[CV] END .......................C=10, penalty=l1, solver=sag; total time=   0.0s\n",
      "[CV] END .......................C=10, penalty=l1, solver=sag; total time=   0.0s\n",
      "[CV] END .......................C=10, penalty=l1, solver=sag; total time=   0.0s\n",
      "[CV] END .......................C=10, penalty=l1, solver=sag; total time=   0.0s\n",
      "[CV] END .......................C=10, penalty=l1, solver=sag; total time=   0.0s\n",
      "[CV] END .......................C=10, penalty=l1, solver=sag; total time=   0.0s\n",
      "[CV] END .......................C=10, penalty=l1, solver=sag; total time=   0.0s\n",
      "[CV] END .......................C=10, penalty=l1, solver=sag; total time=   0.0s\n",
      "[CV] END .......................C=10, penalty=l1, solver=sag; total time=   0.0s\n",
      "[CV] END ................C=1.0, penalty=l2, solver=newton-cg; total time=   1.6s\n",
      "[CV] END ................C=1.0, penalty=l2, solver=newton-cg; total time=   1.6s\n",
      "[CV] END ................C=1.0, penalty=l2, solver=newton-cg; total time=   1.6s\n",
      "[CV] END ................C=1.0, penalty=l2, solver=newton-cg; total time=   1.6s\n",
      "[CV] END ................C=1.0, penalty=l2, solver=newton-cg; total time=   1.6s\n",
      "[CV] END ................C=1.0, penalty=l2, solver=newton-cg; total time=   1.6s\n",
      "[CV] END ................C=1.0, penalty=l2, solver=newton-cg; total time=   1.6s\n",
      "[CV] END ................C=1.0, penalty=l2, solver=newton-cg; total time=   1.6s\n",
      "[CV] END ................C=1.0, penalty=l2, solver=newton-cg; total time=   1.6s\n",
      "[CV] END ................C=1.0, penalty=l2, solver=newton-cg; total time=   1.6s\n",
      "[CV] END ....................C=1.0, penalty=l2, solver=lbfgs; total time=   2.2s\n",
      "[CV] END ....................C=1.0, penalty=l2, solver=lbfgs; total time=   2.1s\n",
      "[CV] END ....................C=1.0, penalty=l2, solver=lbfgs; total time=   2.6s\n",
      "[CV] END ....................C=1.0, penalty=l2, solver=lbfgs; total time=   2.2s\n",
      "[CV] END ....................C=1.0, penalty=l2, solver=lbfgs; total time=   1.6s\n",
      "[CV] END ....................C=1.0, penalty=l2, solver=lbfgs; total time=   2.2s\n",
      "[CV] END ....................C=1.0, penalty=l2, solver=lbfgs; total time=   2.8s\n",
      "[CV] END ....................C=1.0, penalty=l2, solver=lbfgs; total time=   2.6s\n",
      "[CV] END ....................C=1.0, penalty=l2, solver=lbfgs; total time=   1.8s\n",
      "[CV] END ....................C=1.0, penalty=l2, solver=lbfgs; total time=   2.6s\n",
      "[CV] END ......................C=1.0, penalty=l2, solver=sag; total time=   0.8s\n",
      "[CV] END ......................C=1.0, penalty=l2, solver=sag; total time=   0.7s\n",
      "[CV] END ......................C=1.0, penalty=l2, solver=sag; total time=   0.8s\n",
      "[CV] END ......................C=1.0, penalty=l2, solver=sag; total time=   0.7s\n",
      "[CV] END ......................C=1.0, penalty=l2, solver=sag; total time=   0.8s\n",
      "[CV] END ......................C=1.0, penalty=l2, solver=sag; total time=   0.8s\n",
      "[CV] END ......................C=1.0, penalty=l2, solver=sag; total time=   0.8s\n",
      "[CV] END ......................C=1.0, penalty=l2, solver=sag; total time=   0.7s\n",
      "[CV] END ......................C=1.0, penalty=l2, solver=sag; total time=   0.8s\n",
      "[CV] END ......................C=1.0, penalty=l2, solver=sag; total time=   0.8s\n",
      "[CV] END ................C=1.0, penalty=l1, solver=newton-cg; total time=   0.0s\n",
      "[CV] END ................C=1.0, penalty=l1, solver=newton-cg; total time=   0.0s\n",
      "[CV] END ................C=1.0, penalty=l1, solver=newton-cg; total time=   0.0s\n",
      "[CV] END ................C=1.0, penalty=l1, solver=newton-cg; total time=   0.0s\n",
      "[CV] END ................C=1.0, penalty=l1, solver=newton-cg; total time=   0.0s\n",
      "[CV] END ................C=1.0, penalty=l1, solver=newton-cg; total time=   0.0s\n",
      "[CV] END ................C=1.0, penalty=l1, solver=newton-cg; total time=   0.0s\n",
      "[CV] END ................C=1.0, penalty=l1, solver=newton-cg; total time=   0.0s\n",
      "[CV] END ................C=1.0, penalty=l1, solver=newton-cg; total time=   0.0s\n",
      "[CV] END ................C=1.0, penalty=l1, solver=newton-cg; total time=   0.0s\n",
      "[CV] END ....................C=1.0, penalty=l1, solver=lbfgs; total time=   0.0s\n",
      "[CV] END ....................C=1.0, penalty=l1, solver=lbfgs; total time=   0.0s\n",
      "[CV] END ....................C=1.0, penalty=l1, solver=lbfgs; total time=   0.0s\n",
      "[CV] END ....................C=1.0, penalty=l1, solver=lbfgs; total time=   0.0s\n",
      "[CV] END ....................C=1.0, penalty=l1, solver=lbfgs; total time=   0.0s\n",
      "[CV] END ....................C=1.0, penalty=l1, solver=lbfgs; total time=   0.0s\n",
      "[CV] END ....................C=1.0, penalty=l1, solver=lbfgs; total time=   0.0s\n",
      "[CV] END ....................C=1.0, penalty=l1, solver=lbfgs; total time=   0.0s\n",
      "[CV] END ....................C=1.0, penalty=l1, solver=lbfgs; total time=   0.0s\n",
      "[CV] END ....................C=1.0, penalty=l1, solver=lbfgs; total time=   0.0s\n"
     ]
    },
    {
     "name": "stdout",
     "output_type": "stream",
     "text": [
      "[CV] END ......................C=1.0, penalty=l1, solver=sag; total time=   0.0s\n",
      "[CV] END ......................C=1.0, penalty=l1, solver=sag; total time=   0.0s\n",
      "[CV] END ......................C=1.0, penalty=l1, solver=sag; total time=   0.0s\n",
      "[CV] END ......................C=1.0, penalty=l1, solver=sag; total time=   0.0s\n",
      "[CV] END ......................C=1.0, penalty=l1, solver=sag; total time=   0.0s\n",
      "[CV] END ......................C=1.0, penalty=l1, solver=sag; total time=   0.0s\n",
      "[CV] END ......................C=1.0, penalty=l1, solver=sag; total time=   0.0s\n",
      "[CV] END ......................C=1.0, penalty=l1, solver=sag; total time=   0.0s\n",
      "[CV] END ......................C=1.0, penalty=l1, solver=sag; total time=   0.0s\n",
      "[CV] END ......................C=1.0, penalty=l1, solver=sag; total time=   0.0s\n",
      "[CV] END ................C=0.1, penalty=l2, solver=newton-cg; total time=   1.0s\n",
      "[CV] END ................C=0.1, penalty=l2, solver=newton-cg; total time=   1.0s\n",
      "[CV] END ................C=0.1, penalty=l2, solver=newton-cg; total time=   1.0s\n",
      "[CV] END ................C=0.1, penalty=l2, solver=newton-cg; total time=   1.0s\n",
      "[CV] END ................C=0.1, penalty=l2, solver=newton-cg; total time=   1.0s\n",
      "[CV] END ................C=0.1, penalty=l2, solver=newton-cg; total time=   1.0s\n",
      "[CV] END ................C=0.1, penalty=l2, solver=newton-cg; total time=   1.0s\n",
      "[CV] END ................C=0.1, penalty=l2, solver=newton-cg; total time=   1.0s\n",
      "[CV] END ................C=0.1, penalty=l2, solver=newton-cg; total time=   1.0s\n",
      "[CV] END ................C=0.1, penalty=l2, solver=newton-cg; total time=   1.0s\n",
      "[CV] END ....................C=0.1, penalty=l2, solver=lbfgs; total time=   1.2s\n",
      "[CV] END ....................C=0.1, penalty=l2, solver=lbfgs; total time=   1.3s\n",
      "[CV] END ....................C=0.1, penalty=l2, solver=lbfgs; total time=   1.2s\n",
      "[CV] END ....................C=0.1, penalty=l2, solver=lbfgs; total time=   1.2s\n",
      "[CV] END ....................C=0.1, penalty=l2, solver=lbfgs; total time=   1.2s\n",
      "[CV] END ....................C=0.1, penalty=l2, solver=lbfgs; total time=   1.1s\n",
      "[CV] END ....................C=0.1, penalty=l2, solver=lbfgs; total time=   1.3s\n",
      "[CV] END ....................C=0.1, penalty=l2, solver=lbfgs; total time=   1.3s\n",
      "[CV] END ....................C=0.1, penalty=l2, solver=lbfgs; total time=   1.2s\n",
      "[CV] END ....................C=0.1, penalty=l2, solver=lbfgs; total time=   1.4s\n",
      "[CV] END ......................C=0.1, penalty=l2, solver=sag; total time=   0.8s\n",
      "[CV] END ......................C=0.1, penalty=l2, solver=sag; total time=   0.7s\n",
      "[CV] END ......................C=0.1, penalty=l2, solver=sag; total time=   0.7s\n",
      "[CV] END ......................C=0.1, penalty=l2, solver=sag; total time=   0.7s\n",
      "[CV] END ......................C=0.1, penalty=l2, solver=sag; total time=   0.7s\n",
      "[CV] END ......................C=0.1, penalty=l2, solver=sag; total time=   0.6s\n",
      "[CV] END ......................C=0.1, penalty=l2, solver=sag; total time=   0.6s\n",
      "[CV] END ......................C=0.1, penalty=l2, solver=sag; total time=   0.6s\n",
      "[CV] END ......................C=0.1, penalty=l2, solver=sag; total time=   0.7s\n",
      "[CV] END ......................C=0.1, penalty=l2, solver=sag; total time=   0.6s\n",
      "[CV] END ................C=0.1, penalty=l1, solver=newton-cg; total time=   0.0s\n",
      "[CV] END ................C=0.1, penalty=l1, solver=newton-cg; total time=   0.0s\n",
      "[CV] END ................C=0.1, penalty=l1, solver=newton-cg; total time=   0.0s\n",
      "[CV] END ................C=0.1, penalty=l1, solver=newton-cg; total time=   0.0s\n",
      "[CV] END ................C=0.1, penalty=l1, solver=newton-cg; total time=   0.0s\n",
      "[CV] END ................C=0.1, penalty=l1, solver=newton-cg; total time=   0.0s\n",
      "[CV] END ................C=0.1, penalty=l1, solver=newton-cg; total time=   0.0s\n",
      "[CV] END ................C=0.1, penalty=l1, solver=newton-cg; total time=   0.0s\n",
      "[CV] END ................C=0.1, penalty=l1, solver=newton-cg; total time=   0.0s\n",
      "[CV] END ................C=0.1, penalty=l1, solver=newton-cg; total time=   0.0s\n",
      "[CV] END ....................C=0.1, penalty=l1, solver=lbfgs; total time=   0.0s\n",
      "[CV] END ....................C=0.1, penalty=l1, solver=lbfgs; total time=   0.0s\n",
      "[CV] END ....................C=0.1, penalty=l1, solver=lbfgs; total time=   0.0s\n",
      "[CV] END ....................C=0.1, penalty=l1, solver=lbfgs; total time=   0.0s\n",
      "[CV] END ....................C=0.1, penalty=l1, solver=lbfgs; total time=   0.0s\n",
      "[CV] END ....................C=0.1, penalty=l1, solver=lbfgs; total time=   0.0s\n",
      "[CV] END ....................C=0.1, penalty=l1, solver=lbfgs; total time=   0.0s\n",
      "[CV] END ....................C=0.1, penalty=l1, solver=lbfgs; total time=   0.0s\n",
      "[CV] END ....................C=0.1, penalty=l1, solver=lbfgs; total time=   0.0s\n",
      "[CV] END ....................C=0.1, penalty=l1, solver=lbfgs; total time=   0.0s\n",
      "[CV] END ......................C=0.1, penalty=l1, solver=sag; total time=   0.0s\n",
      "[CV] END ......................C=0.1, penalty=l1, solver=sag; total time=   0.0s\n",
      "[CV] END ......................C=0.1, penalty=l1, solver=sag; total time=   0.0s\n",
      "[CV] END ......................C=0.1, penalty=l1, solver=sag; total time=   0.0s\n",
      "[CV] END ......................C=0.1, penalty=l1, solver=sag; total time=   0.0s\n",
      "[CV] END ......................C=0.1, penalty=l1, solver=sag; total time=   0.0s\n",
      "[CV] END ......................C=0.1, penalty=l1, solver=sag; total time=   0.0s\n",
      "[CV] END ......................C=0.1, penalty=l1, solver=sag; total time=   0.0s\n",
      "[CV] END ......................C=0.1, penalty=l1, solver=sag; total time=   0.0s\n",
      "[CV] END ......................C=0.1, penalty=l1, solver=sag; total time=   0.0s\n",
      "[CV] END ................C=100, penalty=l2, solver=newton-cg; total time=   2.5s\n",
      "[CV] END ................C=100, penalty=l2, solver=newton-cg; total time=   2.5s\n",
      "[CV] END ................C=100, penalty=l2, solver=newton-cg; total time=   2.5s\n",
      "[CV] END ................C=100, penalty=l2, solver=newton-cg; total time=   2.6s\n",
      "[CV] END ................C=100, penalty=l2, solver=newton-cg; total time=   2.8s\n",
      "[CV] END ................C=100, penalty=l2, solver=newton-cg; total time=   2.7s\n",
      "[CV] END ................C=100, penalty=l2, solver=newton-cg; total time=   2.7s\n",
      "[CV] END ................C=100, penalty=l2, solver=newton-cg; total time=   2.6s\n",
      "[CV] END ................C=100, penalty=l2, solver=newton-cg; total time=   2.5s\n",
      "[CV] END ................C=100, penalty=l2, solver=newton-cg; total time=   2.5s\n",
      "[CV] END ....................C=100, penalty=l2, solver=lbfgs; total time=   9.4s\n",
      "[CV] END ....................C=100, penalty=l2, solver=lbfgs; total time=   9.0s\n",
      "[CV] END ....................C=100, penalty=l2, solver=lbfgs; total time=   9.8s\n",
      "[CV] END ....................C=100, penalty=l2, solver=lbfgs; total time=   9.8s\n",
      "[CV] END ....................C=100, penalty=l2, solver=lbfgs; total time=  10.1s\n",
      "[CV] END ....................C=100, penalty=l2, solver=lbfgs; total time=  10.1s\n",
      "[CV] END ....................C=100, penalty=l2, solver=lbfgs; total time=  10.8s\n",
      "[CV] END ....................C=100, penalty=l2, solver=lbfgs; total time=  10.4s\n",
      "[CV] END ....................C=100, penalty=l2, solver=lbfgs; total time=   9.2s\n",
      "[CV] END ....................C=100, penalty=l2, solver=lbfgs; total time=   8.2s\n",
      "[CV] END ......................C=100, penalty=l2, solver=sag; total time=   7.2s\n",
      "[CV] END ......................C=100, penalty=l2, solver=sag; total time=   7.0s\n",
      "[CV] END ......................C=100, penalty=l2, solver=sag; total time=   6.8s\n",
      "[CV] END ......................C=100, penalty=l2, solver=sag; total time=   7.0s\n",
      "[CV] END ......................C=100, penalty=l2, solver=sag; total time=   6.9s\n",
      "[CV] END ......................C=100, penalty=l2, solver=sag; total time=   8.6s\n",
      "[CV] END ......................C=100, penalty=l2, solver=sag; total time=   7.2s\n",
      "[CV] END ......................C=100, penalty=l2, solver=sag; total time=   7.4s\n",
      "[CV] END ......................C=100, penalty=l2, solver=sag; total time=   8.9s\n",
      "[CV] END ......................C=100, penalty=l2, solver=sag; total time=   9.0s\n",
      "[CV] END ................C=100, penalty=l1, solver=newton-cg; total time=   0.0s\n",
      "[CV] END ................C=100, penalty=l1, solver=newton-cg; total time=   0.0s\n",
      "[CV] END ................C=100, penalty=l1, solver=newton-cg; total time=   0.0s\n",
      "[CV] END ................C=100, penalty=l1, solver=newton-cg; total time=   0.0s\n",
      "[CV] END ................C=100, penalty=l1, solver=newton-cg; total time=   0.0s\n",
      "[CV] END ................C=100, penalty=l1, solver=newton-cg; total time=   0.0s\n",
      "[CV] END ................C=100, penalty=l1, solver=newton-cg; total time=   0.0s\n",
      "[CV] END ................C=100, penalty=l1, solver=newton-cg; total time=   0.0s\n",
      "[CV] END ................C=100, penalty=l1, solver=newton-cg; total time=   0.0s\n",
      "[CV] END ................C=100, penalty=l1, solver=newton-cg; total time=   0.0s\n",
      "[CV] END ....................C=100, penalty=l1, solver=lbfgs; total time=   0.0s\n",
      "[CV] END ....................C=100, penalty=l1, solver=lbfgs; total time=   0.0s\n",
      "[CV] END ....................C=100, penalty=l1, solver=lbfgs; total time=   0.0s\n",
      "[CV] END ....................C=100, penalty=l1, solver=lbfgs; total time=   0.0s\n",
      "[CV] END ....................C=100, penalty=l1, solver=lbfgs; total time=   0.0s\n",
      "[CV] END ....................C=100, penalty=l1, solver=lbfgs; total time=   0.0s\n",
      "[CV] END ....................C=100, penalty=l1, solver=lbfgs; total time=   0.0s\n",
      "[CV] END ....................C=100, penalty=l1, solver=lbfgs; total time=   0.0s\n"
     ]
    },
    {
     "name": "stdout",
     "output_type": "stream",
     "text": [
      "[CV] END ....................C=100, penalty=l1, solver=lbfgs; total time=   0.0s\n",
      "[CV] END ....................C=100, penalty=l1, solver=lbfgs; total time=   0.0s\n",
      "[CV] END ......................C=100, penalty=l1, solver=sag; total time=   0.0s\n",
      "[CV] END ......................C=100, penalty=l1, solver=sag; total time=   0.0s\n",
      "[CV] END ......................C=100, penalty=l1, solver=sag; total time=   0.0s\n",
      "[CV] END ......................C=100, penalty=l1, solver=sag; total time=   0.0s\n",
      "[CV] END ......................C=100, penalty=l1, solver=sag; total time=   0.0s\n",
      "[CV] END ......................C=100, penalty=l1, solver=sag; total time=   0.0s\n",
      "[CV] END ......................C=100, penalty=l1, solver=sag; total time=   0.0s\n",
      "[CV] END ......................C=100, penalty=l1, solver=sag; total time=   0.0s\n",
      "[CV] END ......................C=100, penalty=l1, solver=sag; total time=   0.0s\n",
      "[CV] END ......................C=100, penalty=l1, solver=sag; total time=   0.0s\n"
     ]
    },
    {
     "name": "stderr",
     "output_type": "stream",
     "text": [
      "/Users/isabellaxue/Library/Python/3.8/lib/python/site-packages/sklearn/model_selection/_validation.py:372: FitFailedWarning: \n",
      "120 fits failed out of a total of 240.\n",
      "The score on these train-test partitions for these parameters will be set to nan.\n",
      "If these failures are not expected, you can try to debug them by setting error_score='raise'.\n",
      "\n",
      "Below are more details about the failures:\n",
      "--------------------------------------------------------------------------------\n",
      "40 fits failed with the following error:\n",
      "Traceback (most recent call last):\n",
      "  File \"/Users/isabellaxue/Library/Python/3.8/lib/python/site-packages/sklearn/model_selection/_validation.py\", line 681, in _fit_and_score\n",
      "    estimator.fit(X_train, y_train, **fit_params)\n",
      "  File \"/Users/isabellaxue/Library/Python/3.8/lib/python/site-packages/sklearn/linear_model/_logistic.py\", line 1461, in fit\n",
      "    solver = _check_solver(self.solver, self.penalty, self.dual)\n",
      "  File \"/Users/isabellaxue/Library/Python/3.8/lib/python/site-packages/sklearn/linear_model/_logistic.py\", line 447, in _check_solver\n",
      "    raise ValueError(\n",
      "ValueError: Solver newton-cg supports only 'l2' or 'none' penalties, got l1 penalty.\n",
      "\n",
      "--------------------------------------------------------------------------------\n",
      "40 fits failed with the following error:\n",
      "Traceback (most recent call last):\n",
      "  File \"/Users/isabellaxue/Library/Python/3.8/lib/python/site-packages/sklearn/model_selection/_validation.py\", line 681, in _fit_and_score\n",
      "    estimator.fit(X_train, y_train, **fit_params)\n",
      "  File \"/Users/isabellaxue/Library/Python/3.8/lib/python/site-packages/sklearn/linear_model/_logistic.py\", line 1461, in fit\n",
      "    solver = _check_solver(self.solver, self.penalty, self.dual)\n",
      "  File \"/Users/isabellaxue/Library/Python/3.8/lib/python/site-packages/sklearn/linear_model/_logistic.py\", line 447, in _check_solver\n",
      "    raise ValueError(\n",
      "ValueError: Solver lbfgs supports only 'l2' or 'none' penalties, got l1 penalty.\n",
      "\n",
      "--------------------------------------------------------------------------------\n",
      "40 fits failed with the following error:\n",
      "Traceback (most recent call last):\n",
      "  File \"/Users/isabellaxue/Library/Python/3.8/lib/python/site-packages/sklearn/model_selection/_validation.py\", line 681, in _fit_and_score\n",
      "    estimator.fit(X_train, y_train, **fit_params)\n",
      "  File \"/Users/isabellaxue/Library/Python/3.8/lib/python/site-packages/sklearn/linear_model/_logistic.py\", line 1461, in fit\n",
      "    solver = _check_solver(self.solver, self.penalty, self.dual)\n",
      "  File \"/Users/isabellaxue/Library/Python/3.8/lib/python/site-packages/sklearn/linear_model/_logistic.py\", line 447, in _check_solver\n",
      "    raise ValueError(\n",
      "ValueError: Solver sag supports only 'l2' or 'none' penalties, got l1 penalty.\n",
      "\n",
      "  warnings.warn(some_fits_failed_message, FitFailedWarning)\n",
      "/Users/isabellaxue/Library/Python/3.8/lib/python/site-packages/sklearn/model_selection/_search.py:969: UserWarning: One or more of the test scores are non-finite: [0.88931343 0.88934328 0.88931343        nan        nan        nan\n",
      " 0.88635821 0.88635821 0.88635821        nan        nan        nan\n",
      " 0.86220896 0.86220896 0.86220896        nan        nan        nan\n",
      " 0.88104478 0.88098507 0.88080597        nan        nan        nan]\n",
      "  warnings.warn(\n"
     ]
    },
    {
     "data": {
      "text/plain": [
       "0.8893432835820896"
      ]
     },
     "execution_count": 17,
     "metadata": {},
     "output_type": "execute_result"
    }
   ],
   "source": [
    "from sklearn.model_selection import GridSearchCV\n",
    "from sklearn.linear_model import LogisticRegression\n",
    "lr_model = LogisticRegression(random_state=123, max_iter=1000)\n",
    "\n",
    "params =  {\n",
    "    'solver':['newton-cg', 'lbfgs', 'sag'],\n",
    "    'penalty': ['l2', 'l1'],\n",
    "    'C': [10, 1.0, 0.1, 100]\n",
    "}\n",
    "\n",
    "grid = GridSearchCV(estimator=lr_model,\n",
    "                    param_grid=params,\n",
    "                    cv=10,\n",
    "                    n_jobs=1,\n",
    "                    verbose=2)\n",
    "\n",
    "grid.fit(x_train, y_train)\n",
    "\n",
    "grid.best_score_\n"
   ]
  },
  {
   "cell_type": "code",
   "execution_count": 18,
   "metadata": {},
   "outputs": [
    {
     "name": "stdout",
     "output_type": "stream",
     "text": [
      "Train Accuracy: 98.490%\n",
      "Test Accuracy: 89.133%\n"
     ]
    },
    {
     "name": "stderr",
     "output_type": "stream",
     "text": [
      "/Users/isabellaxue/Library/Python/3.8/lib/python/site-packages/sklearn/linear_model/_logistic.py:814: ConvergenceWarning: lbfgs failed to converge (status=1):\n",
      "STOP: TOTAL NO. of ITERATIONS REACHED LIMIT.\n",
      "\n",
      "Increase the number of iterations (max_iter) or scale the data as shown in:\n",
      "    https://scikit-learn.org/stable/modules/preprocessing.html\n",
      "Please also refer to the documentation for alternative solver options:\n",
      "    https://scikit-learn.org/stable/modules/linear_model.html#logistic-regression\n",
      "  n_iter_i = _check_optimize_result(\n"
     ]
    }
   ],
   "source": [
    "lr_model = LogisticRegression(**grid.best_params_)\n",
    "lr_model.fit(x_train, y_train)\n",
    "lr_t_accuracy = round(lr_model.score(x_test, y_test), 5)\n",
    "print(f\"Train Accuracy: {lr_model.score(x_train, y_train)*100:0.3f}%\")\n",
    "print(f\"Test Accuracy: {lr_model.score(x_test, y_test)*100:0.3f}%\")"
   ]
  },
  {
   "cell_type": "markdown",
   "metadata": {},
   "source": [
    "#### Current ('C': [1.0, 0.1]), validation score=0.88755"
   ]
  },
  {
   "cell_type": "code",
   "execution_count": 19,
   "metadata": {
    "scrolled": true
   },
   "outputs": [
    {
     "name": "stdout",
     "output_type": "stream",
     "text": [
      "Fitting 10 folds for each of 12 candidates, totalling 120 fits\n",
      "[CV] END ................C=1.0, penalty=l2, solver=newton-cg; total time=   1.7s\n",
      "[CV] END ................C=1.0, penalty=l2, solver=newton-cg; total time=   1.7s\n",
      "[CV] END ................C=1.0, penalty=l2, solver=newton-cg; total time=   1.8s\n",
      "[CV] END ................C=1.0, penalty=l2, solver=newton-cg; total time=   1.7s\n",
      "[CV] END ................C=1.0, penalty=l2, solver=newton-cg; total time=   1.8s\n",
      "[CV] END ................C=1.0, penalty=l2, solver=newton-cg; total time=   1.8s\n",
      "[CV] END ................C=1.0, penalty=l2, solver=newton-cg; total time=   1.8s\n",
      "[CV] END ................C=1.0, penalty=l2, solver=newton-cg; total time=   1.9s\n",
      "[CV] END ................C=1.0, penalty=l2, solver=newton-cg; total time=   1.6s\n",
      "[CV] END ................C=1.0, penalty=l2, solver=newton-cg; total time=   1.8s\n",
      "[CV] END ....................C=1.0, penalty=l2, solver=lbfgs; total time=   2.5s\n",
      "[CV] END ....................C=1.0, penalty=l2, solver=lbfgs; total time=   2.1s\n",
      "[CV] END ....................C=1.0, penalty=l2, solver=lbfgs; total time=   2.6s\n",
      "[CV] END ....................C=1.0, penalty=l2, solver=lbfgs; total time=   2.3s\n",
      "[CV] END ....................C=1.0, penalty=l2, solver=lbfgs; total time=   1.7s\n",
      "[CV] END ....................C=1.0, penalty=l2, solver=lbfgs; total time=   2.2s\n",
      "[CV] END ....................C=1.0, penalty=l2, solver=lbfgs; total time=   2.9s\n",
      "[CV] END ....................C=1.0, penalty=l2, solver=lbfgs; total time=   3.0s\n",
      "[CV] END ....................C=1.0, penalty=l2, solver=lbfgs; total time=   1.9s\n",
      "[CV] END ....................C=1.0, penalty=l2, solver=lbfgs; total time=   2.7s\n",
      "[CV] END ......................C=1.0, penalty=l2, solver=sag; total time=   1.0s\n",
      "[CV] END ......................C=1.0, penalty=l2, solver=sag; total time=   1.0s\n",
      "[CV] END ......................C=1.0, penalty=l2, solver=sag; total time=   0.8s\n",
      "[CV] END ......................C=1.0, penalty=l2, solver=sag; total time=   0.8s\n",
      "[CV] END ......................C=1.0, penalty=l2, solver=sag; total time=   0.8s\n",
      "[CV] END ......................C=1.0, penalty=l2, solver=sag; total time=   1.0s\n",
      "[CV] END ......................C=1.0, penalty=l2, solver=sag; total time=   1.1s\n",
      "[CV] END ......................C=1.0, penalty=l2, solver=sag; total time=   1.0s\n",
      "[CV] END ......................C=1.0, penalty=l2, solver=sag; total time=   0.9s\n",
      "[CV] END ......................C=1.0, penalty=l2, solver=sag; total time=   1.0s\n",
      "[CV] END ................C=1.0, penalty=l1, solver=newton-cg; total time=   0.0s\n",
      "[CV] END ................C=1.0, penalty=l1, solver=newton-cg; total time=   0.0s\n",
      "[CV] END ................C=1.0, penalty=l1, solver=newton-cg; total time=   0.0s\n",
      "[CV] END ................C=1.0, penalty=l1, solver=newton-cg; total time=   0.0s\n",
      "[CV] END ................C=1.0, penalty=l1, solver=newton-cg; total time=   0.0s\n",
      "[CV] END ................C=1.0, penalty=l1, solver=newton-cg; total time=   0.0s\n",
      "[CV] END ................C=1.0, penalty=l1, solver=newton-cg; total time=   0.0s\n",
      "[CV] END ................C=1.0, penalty=l1, solver=newton-cg; total time=   0.0s\n",
      "[CV] END ................C=1.0, penalty=l1, solver=newton-cg; total time=   0.0s\n",
      "[CV] END ................C=1.0, penalty=l1, solver=newton-cg; total time=   0.0s\n",
      "[CV] END ....................C=1.0, penalty=l1, solver=lbfgs; total time=   0.0s\n",
      "[CV] END ....................C=1.0, penalty=l1, solver=lbfgs; total time=   0.0s\n",
      "[CV] END ....................C=1.0, penalty=l1, solver=lbfgs; total time=   0.0s\n",
      "[CV] END ....................C=1.0, penalty=l1, solver=lbfgs; total time=   0.0s\n",
      "[CV] END ....................C=1.0, penalty=l1, solver=lbfgs; total time=   0.0s\n",
      "[CV] END ....................C=1.0, penalty=l1, solver=lbfgs; total time=   0.0s\n",
      "[CV] END ....................C=1.0, penalty=l1, solver=lbfgs; total time=   0.0s\n",
      "[CV] END ....................C=1.0, penalty=l1, solver=lbfgs; total time=   0.0s\n",
      "[CV] END ....................C=1.0, penalty=l1, solver=lbfgs; total time=   0.0s\n",
      "[CV] END ....................C=1.0, penalty=l1, solver=lbfgs; total time=   0.0s\n",
      "[CV] END ......................C=1.0, penalty=l1, solver=sag; total time=   0.0s\n",
      "[CV] END ......................C=1.0, penalty=l1, solver=sag; total time=   0.0s\n",
      "[CV] END ......................C=1.0, penalty=l1, solver=sag; total time=   0.0s\n",
      "[CV] END ......................C=1.0, penalty=l1, solver=sag; total time=   0.0s\n",
      "[CV] END ......................C=1.0, penalty=l1, solver=sag; total time=   0.0s\n",
      "[CV] END ......................C=1.0, penalty=l1, solver=sag; total time=   0.0s\n",
      "[CV] END ......................C=1.0, penalty=l1, solver=sag; total time=   0.0s\n",
      "[CV] END ......................C=1.0, penalty=l1, solver=sag; total time=   0.0s\n",
      "[CV] END ......................C=1.0, penalty=l1, solver=sag; total time=   0.0s\n",
      "[CV] END ......................C=1.0, penalty=l1, solver=sag; total time=   0.0s\n",
      "[CV] END ................C=0.1, penalty=l2, solver=newton-cg; total time=   1.1s\n",
      "[CV] END ................C=0.1, penalty=l2, solver=newton-cg; total time=   1.0s\n",
      "[CV] END ................C=0.1, penalty=l2, solver=newton-cg; total time=   1.0s\n",
      "[CV] END ................C=0.1, penalty=l2, solver=newton-cg; total time=   1.0s\n",
      "[CV] END ................C=0.1, penalty=l2, solver=newton-cg; total time=   1.0s\n",
      "[CV] END ................C=0.1, penalty=l2, solver=newton-cg; total time=   1.0s\n",
      "[CV] END ................C=0.1, penalty=l2, solver=newton-cg; total time=   1.1s\n",
      "[CV] END ................C=0.1, penalty=l2, solver=newton-cg; total time=   1.1s\n",
      "[CV] END ................C=0.1, penalty=l2, solver=newton-cg; total time=   1.1s\n",
      "[CV] END ................C=0.1, penalty=l2, solver=newton-cg; total time=   1.0s\n",
      "[CV] END ....................C=0.1, penalty=l2, solver=lbfgs; total time=   1.2s\n",
      "[CV] END ....................C=0.1, penalty=l2, solver=lbfgs; total time=   1.4s\n",
      "[CV] END ....................C=0.1, penalty=l2, solver=lbfgs; total time=   1.2s\n",
      "[CV] END ....................C=0.1, penalty=l2, solver=lbfgs; total time=   1.2s\n",
      "[CV] END ....................C=0.1, penalty=l2, solver=lbfgs; total time=   1.3s\n",
      "[CV] END ....................C=0.1, penalty=l2, solver=lbfgs; total time=   1.2s\n",
      "[CV] END ....................C=0.1, penalty=l2, solver=lbfgs; total time=   1.2s\n",
      "[CV] END ....................C=0.1, penalty=l2, solver=lbfgs; total time=   1.4s\n",
      "[CV] END ....................C=0.1, penalty=l2, solver=lbfgs; total time=   1.3s\n",
      "[CV] END ....................C=0.1, penalty=l2, solver=lbfgs; total time=   1.3s\n",
      "[CV] END ......................C=0.1, penalty=l2, solver=sag; total time=   0.8s\n",
      "[CV] END ......................C=0.1, penalty=l2, solver=sag; total time=   0.7s\n",
      "[CV] END ......................C=0.1, penalty=l2, solver=sag; total time=   0.8s\n",
      "[CV] END ......................C=0.1, penalty=l2, solver=sag; total time=   0.8s\n",
      "[CV] END ......................C=0.1, penalty=l2, solver=sag; total time=   0.8s\n",
      "[CV] END ......................C=0.1, penalty=l2, solver=sag; total time=   0.7s\n",
      "[CV] END ......................C=0.1, penalty=l2, solver=sag; total time=   0.7s\n",
      "[CV] END ......................C=0.1, penalty=l2, solver=sag; total time=   0.7s\n",
      "[CV] END ......................C=0.1, penalty=l2, solver=sag; total time=   0.7s\n",
      "[CV] END ......................C=0.1, penalty=l2, solver=sag; total time=   0.7s\n",
      "[CV] END ................C=0.1, penalty=l1, solver=newton-cg; total time=   0.0s\n",
      "[CV] END ................C=0.1, penalty=l1, solver=newton-cg; total time=   0.0s\n",
      "[CV] END ................C=0.1, penalty=l1, solver=newton-cg; total time=   0.0s\n",
      "[CV] END ................C=0.1, penalty=l1, solver=newton-cg; total time=   0.0s\n",
      "[CV] END ................C=0.1, penalty=l1, solver=newton-cg; total time=   0.0s\n",
      "[CV] END ................C=0.1, penalty=l1, solver=newton-cg; total time=   0.0s\n",
      "[CV] END ................C=0.1, penalty=l1, solver=newton-cg; total time=   0.0s\n",
      "[CV] END ................C=0.1, penalty=l1, solver=newton-cg; total time=   0.0s\n",
      "[CV] END ................C=0.1, penalty=l1, solver=newton-cg; total time=   0.0s\n",
      "[CV] END ................C=0.1, penalty=l1, solver=newton-cg; total time=   0.0s\n",
      "[CV] END ....................C=0.1, penalty=l1, solver=lbfgs; total time=   0.0s\n",
      "[CV] END ....................C=0.1, penalty=l1, solver=lbfgs; total time=   0.0s\n",
      "[CV] END ....................C=0.1, penalty=l1, solver=lbfgs; total time=   0.0s\n",
      "[CV] END ....................C=0.1, penalty=l1, solver=lbfgs; total time=   0.0s\n",
      "[CV] END ....................C=0.1, penalty=l1, solver=lbfgs; total time=   0.0s\n",
      "[CV] END ....................C=0.1, penalty=l1, solver=lbfgs; total time=   0.0s\n",
      "[CV] END ....................C=0.1, penalty=l1, solver=lbfgs; total time=   0.0s\n",
      "[CV] END ....................C=0.1, penalty=l1, solver=lbfgs; total time=   0.0s\n",
      "[CV] END ....................C=0.1, penalty=l1, solver=lbfgs; total time=   0.0s\n"
     ]
    },
    {
     "name": "stdout",
     "output_type": "stream",
     "text": [
      "[CV] END ....................C=0.1, penalty=l1, solver=lbfgs; total time=   0.0s\n",
      "[CV] END ......................C=0.1, penalty=l1, solver=sag; total time=   0.0s\n",
      "[CV] END ......................C=0.1, penalty=l1, solver=sag; total time=   0.0s\n",
      "[CV] END ......................C=0.1, penalty=l1, solver=sag; total time=   0.0s\n",
      "[CV] END ......................C=0.1, penalty=l1, solver=sag; total time=   0.0s\n",
      "[CV] END ......................C=0.1, penalty=l1, solver=sag; total time=   0.0s\n",
      "[CV] END ......................C=0.1, penalty=l1, solver=sag; total time=   0.0s\n",
      "[CV] END ......................C=0.1, penalty=l1, solver=sag; total time=   0.0s\n",
      "[CV] END ......................C=0.1, penalty=l1, solver=sag; total time=   0.0s\n",
      "[CV] END ......................C=0.1, penalty=l1, solver=sag; total time=   0.0s\n",
      "[CV] END ......................C=0.1, penalty=l1, solver=sag; total time=   0.0s\n"
     ]
    },
    {
     "name": "stderr",
     "output_type": "stream",
     "text": [
      "/Users/isabellaxue/Library/Python/3.8/lib/python/site-packages/sklearn/model_selection/_validation.py:372: FitFailedWarning: \n",
      "60 fits failed out of a total of 120.\n",
      "The score on these train-test partitions for these parameters will be set to nan.\n",
      "If these failures are not expected, you can try to debug them by setting error_score='raise'.\n",
      "\n",
      "Below are more details about the failures:\n",
      "--------------------------------------------------------------------------------\n",
      "20 fits failed with the following error:\n",
      "Traceback (most recent call last):\n",
      "  File \"/Users/isabellaxue/Library/Python/3.8/lib/python/site-packages/sklearn/model_selection/_validation.py\", line 681, in _fit_and_score\n",
      "    estimator.fit(X_train, y_train, **fit_params)\n",
      "  File \"/Users/isabellaxue/Library/Python/3.8/lib/python/site-packages/sklearn/linear_model/_logistic.py\", line 1461, in fit\n",
      "    solver = _check_solver(self.solver, self.penalty, self.dual)\n",
      "  File \"/Users/isabellaxue/Library/Python/3.8/lib/python/site-packages/sklearn/linear_model/_logistic.py\", line 447, in _check_solver\n",
      "    raise ValueError(\n",
      "ValueError: Solver newton-cg supports only 'l2' or 'none' penalties, got l1 penalty.\n",
      "\n",
      "--------------------------------------------------------------------------------\n",
      "20 fits failed with the following error:\n",
      "Traceback (most recent call last):\n",
      "  File \"/Users/isabellaxue/Library/Python/3.8/lib/python/site-packages/sklearn/model_selection/_validation.py\", line 681, in _fit_and_score\n",
      "    estimator.fit(X_train, y_train, **fit_params)\n",
      "  File \"/Users/isabellaxue/Library/Python/3.8/lib/python/site-packages/sklearn/linear_model/_logistic.py\", line 1461, in fit\n",
      "    solver = _check_solver(self.solver, self.penalty, self.dual)\n",
      "  File \"/Users/isabellaxue/Library/Python/3.8/lib/python/site-packages/sklearn/linear_model/_logistic.py\", line 447, in _check_solver\n",
      "    raise ValueError(\n",
      "ValueError: Solver lbfgs supports only 'l2' or 'none' penalties, got l1 penalty.\n",
      "\n",
      "--------------------------------------------------------------------------------\n",
      "20 fits failed with the following error:\n",
      "Traceback (most recent call last):\n",
      "  File \"/Users/isabellaxue/Library/Python/3.8/lib/python/site-packages/sklearn/model_selection/_validation.py\", line 681, in _fit_and_score\n",
      "    estimator.fit(X_train, y_train, **fit_params)\n",
      "  File \"/Users/isabellaxue/Library/Python/3.8/lib/python/site-packages/sklearn/linear_model/_logistic.py\", line 1461, in fit\n",
      "    solver = _check_solver(self.solver, self.penalty, self.dual)\n",
      "  File \"/Users/isabellaxue/Library/Python/3.8/lib/python/site-packages/sklearn/linear_model/_logistic.py\", line 447, in _check_solver\n",
      "    raise ValueError(\n",
      "ValueError: Solver sag supports only 'l2' or 'none' penalties, got l1 penalty.\n",
      "\n",
      "  warnings.warn(some_fits_failed_message, FitFailedWarning)\n",
      "/Users/isabellaxue/Library/Python/3.8/lib/python/site-packages/sklearn/model_selection/_search.py:969: UserWarning: One or more of the test scores are non-finite: [0.88635821 0.88635821 0.88635821        nan        nan        nan\n",
      " 0.86220896 0.86220896 0.86220896        nan        nan        nan]\n",
      "  warnings.warn(\n"
     ]
    },
    {
     "data": {
      "text/plain": [
       "0.8863582089552239"
      ]
     },
     "execution_count": 19,
     "metadata": {},
     "output_type": "execute_result"
    }
   ],
   "source": [
    "from sklearn.model_selection import GridSearchCV\n",
    "from sklearn.linear_model import LogisticRegression\n",
    "lr_model = LogisticRegression(random_state=123, max_iter=1000)\n",
    "\n",
    "params =  {\n",
    "    'solver':['newton-cg', 'lbfgs', 'sag'],\n",
    "    'penalty': ['l2', 'l1'],\n",
    "    'C': [1.0, 0.1]\n",
    "}\n",
    "\n",
    "grid = GridSearchCV(estimator=lr_model,\n",
    "                    param_grid=params,\n",
    "                    cv=10,\n",
    "                    n_jobs=1,\n",
    "                    verbose=2)\n",
    "\n",
    "grid.fit(x_train, y_train)\n",
    "\n",
    "grid.best_score_\n"
   ]
  },
  {
   "cell_type": "code",
   "execution_count": 20,
   "metadata": {},
   "outputs": [
    {
     "data": {
      "text/plain": [
       "{'C': 1.0, 'penalty': 'l2', 'solver': 'newton-cg'}"
      ]
     },
     "execution_count": 20,
     "metadata": {},
     "output_type": "execute_result"
    }
   ],
   "source": [
    "grid.best_params_"
   ]
  },
  {
   "cell_type": "code",
   "execution_count": 21,
   "metadata": {},
   "outputs": [
    {
     "name": "stdout",
     "output_type": "stream",
     "text": [
      "Train Accuracy: 92.904%\n",
      "Test Accuracy: 88.842%\n"
     ]
    }
   ],
   "source": [
    "lr_model = LogisticRegression(**grid.best_params_)\n",
    "lr_model.fit(x_train, y_train)\n",
    "lr_t_accuracy = round(lr_model.score(x_test, y_test), 5)\n",
    "print(f\"Train Accuracy: {lr_model.score(x_train, y_train)*100:0.3f}%\")\n",
    "print(f\"Test Accuracy: {lr_model.score(x_test, y_test)*100:0.3f}%\")"
   ]
  },
  {
   "cell_type": "code",
   "execution_count": 22,
   "metadata": {},
   "outputs": [
    {
     "name": "stdout",
     "output_type": "stream",
     "text": [
      "Classification report: \n",
      "               precision    recall  f1-score   support\n",
      "\n",
      "           0       0.90      0.88      0.89      8250\n",
      "           1       0.88      0.90      0.89      8250\n",
      "\n",
      "    accuracy                           0.89     16500\n",
      "   macro avg       0.89      0.89      0.89     16500\n",
      "weighted avg       0.89      0.89      0.89     16500\n",
      " \n",
      "\n"
     ]
    },
    {
     "data": {
      "text/plain": [
       "Text(0.5, 1.0, 'LogisticRegression Confusion matrix')"
      ]
     },
     "execution_count": 22,
     "metadata": {},
     "output_type": "execute_result"
    },
    {
     "data": {
      "image/png": "[encoded data removed]",
      "text/plain": [
       "<Figure size 504x432 with 2 Axes>"
      ]
     },
     "metadata": {
      "needs_background": "light"
     },
     "output_type": "display_data"
    }
   ],
   "source": [
    "predicted_lr = lr_model.predict(x_test)\n",
    "print(\"Classification report: \\n\", classification_report(y_test, predicted_lr), \"\\n\")\n",
    "\n",
    "matrix = confusion_matrix(y_test, predicted_lr)\n",
    "plt.figure(figsize = (7,6))\n",
    "sns.heatmap(matrix, annot=True, fmt='g', cmap='Greens')\n",
    "plt.xlabel(\"Predicted\")\n",
    "plt.ylabel(\"Actual\")\n",
    "plt.title(\"LogisticRegression Confusion matrix\")"
   ]
  },
  {
   "cell_type": "code",
   "execution_count": 23,
   "metadata": {},
   "outputs": [
    {
     "name": "stdout",
     "output_type": "stream",
     "text": [
      "No Skill: ROC AUC=0.500\n",
      "Logistic: ROC AUC=0.956\n"
     ]
    },
    {
     "data": {
      "image/png": "[encoded data removed]",
      "text/plain": [
       "<Figure size 432x288 with 1 Axes>"
      ]
     },
     "metadata": {
      "needs_background": "light"
     },
     "output_type": "display_data"
    }
   ],
   "source": [
    "# predict probabilities\n",
    "lr_probs = lr_model.predict_proba(x_test)\n",
    "# keep probabilities for the positive outcome only\n",
    "lr_probs = lr_probs[:, 1]\n",
    "# calculate scores\n",
    "lr_auc = roc_auc_score(y_test, lr_probs)\n",
    "# summarize scores\n",
    "print('No Skill: ROC AUC=%.3f' % (ns_auc))\n",
    "print('Logistic: ROC AUC=%.3f' % (lr_auc))\n",
    "# calculate roc curves\n",
    "ns_fpr, ns_tpr, _ = roc_curve(y_test, ns_probs)\n",
    "lr_fpr, lr_tpr, _ = roc_curve(y_test, lr_probs)\n",
    "# plot the roc curve for the model\n",
    "plt.plot(ns_fpr, ns_tpr, color='black', linestyle='dashed')\n",
    "plt.plot(lr_fpr, lr_tpr, color='green', label='Logistic')\n",
    "# axis labels\n",
    "plt.xlabel('False Positive Rate')\n",
    "plt.ylabel('True Positive Rate')\n",
    "# show the legend\n",
    "plt.legend()\n",
    "# show the plot\n",
    "plt.show()\n",
    "\n",
    "#plt.savefig('LR_roc_curve.png')"
   ]
  },
  {
   "cell_type": "markdown",
   "metadata": {},
   "source": [
    "### XGB"
   ]
  },
  {
   "cell_type": "code",
   "execution_count": 24,
   "metadata": {
    "scrolled": true
   },
   "outputs": [
    {
     "name": "stdout",
     "output_type": "stream",
     "text": [
      "Fitting 10 folds for each of 4 candidates, totalling 40 fits\n",
      "[CV] END ....................max_depth=4, min_child_weight=1; total time=  17.6s\n",
      "[CV] END ....................max_depth=4, min_child_weight=1; total time=  17.8s\n",
      "[CV] END ....................max_depth=4, min_child_weight=1; total time=  17.8s\n",
      "[CV] END ....................max_depth=4, min_child_weight=1; total time=  17.8s\n",
      "[CV] END ....................max_depth=4, min_child_weight=1; total time=  17.8s\n",
      "[CV] END ....................max_depth=4, min_child_weight=1; total time=  18.0s\n",
      "[CV] END ....................max_depth=4, min_child_weight=1; total time=  17.8s\n",
      "[CV] END ....................max_depth=4, min_child_weight=1; total time=  17.8s\n",
      "[CV] END ....................max_depth=4, min_child_weight=1; total time=  17.8s\n",
      "[CV] END ....................max_depth=4, min_child_weight=1; total time=  17.8s\n",
      "[CV] END ....................max_depth=4, min_child_weight=3; total time=  17.5s\n",
      "[CV] END ....................max_depth=4, min_child_weight=3; total time=  17.3s\n",
      "[CV] END ....................max_depth=4, min_child_weight=3; total time=  17.5s\n",
      "[CV] END ....................max_depth=4, min_child_weight=3; total time=  17.4s\n",
      "[CV] END ....................max_depth=4, min_child_weight=3; total time=  17.4s\n",
      "[CV] END ....................max_depth=4, min_child_weight=3; total time=  17.4s\n",
      "[CV] END ....................max_depth=4, min_child_weight=3; total time=  17.4s\n",
      "[CV] END ....................max_depth=4, min_child_weight=3; total time=  17.4s\n",
      "[CV] END ....................max_depth=4, min_child_weight=3; total time=  17.4s\n",
      "[CV] END ....................max_depth=4, min_child_weight=3; total time=  17.4s\n",
      "[CV] END ....................max_depth=6, min_child_weight=1; total time=  22.9s\n",
      "[CV] END ....................max_depth=6, min_child_weight=1; total time=  22.8s\n",
      "[CV] END ....................max_depth=6, min_child_weight=1; total time=  23.3s\n",
      "[CV] END ....................max_depth=6, min_child_weight=1; total time=  23.9s\n",
      "[CV] END ....................max_depth=6, min_child_weight=1; total time=  24.0s\n",
      "[CV] END ....................max_depth=6, min_child_weight=1; total time=  23.0s\n",
      "[CV] END ....................max_depth=6, min_child_weight=1; total time=  23.1s\n",
      "[CV] END ....................max_depth=6, min_child_weight=1; total time=  23.0s\n",
      "[CV] END ....................max_depth=6, min_child_weight=1; total time=  22.9s\n",
      "[CV] END ....................max_depth=6, min_child_weight=1; total time=  23.1s\n",
      "[CV] END ....................max_depth=6, min_child_weight=3; total time=  22.2s\n",
      "[CV] END ....................max_depth=6, min_child_weight=3; total time=  22.2s\n",
      "[CV] END ....................max_depth=6, min_child_weight=3; total time=  22.3s\n",
      "[CV] END ....................max_depth=6, min_child_weight=3; total time=  22.3s\n",
      "[CV] END ....................max_depth=6, min_child_weight=3; total time=  22.4s\n",
      "[CV] END ....................max_depth=6, min_child_weight=3; total time=  22.4s\n",
      "[CV] END ....................max_depth=6, min_child_weight=3; total time=  22.4s\n",
      "[CV] END ....................max_depth=6, min_child_weight=3; total time=  22.4s\n",
      "[CV] END ....................max_depth=6, min_child_weight=3; total time=  22.4s\n",
      "[CV] END ....................max_depth=6, min_child_weight=3; total time=  22.5s\n"
     ]
    },
    {
     "data": {
      "text/plain": [
       "GridSearchCV(cv=10,\n",
       "             estimator=XGBClassifier(base_score=None, booster=None,\n",
       "                                     colsample_bylevel=None,\n",
       "                                     colsample_bynode=None,\n",
       "                                     colsample_bytree=None, gamma=None,\n",
       "                                     gpu_id=None, importance_type='gain',\n",
       "                                     interaction_constraints=None,\n",
       "                                     learning_rate=None, max_delta_step=None,\n",
       "                                     max_depth=None, min_child_weight=None,\n",
       "                                     missing=nan, monotone_constraints=None,\n",
       "                                     n_estimators=100, n_jobs=None,\n",
       "                                     num_parallel_tree=None, random_state=123,\n",
       "                                     reg_alpha=None, reg_lambda=None,\n",
       "                                     scale_pos_weight=None, subsample=None,\n",
       "                                     tree_method=None, validate_parameters=None,\n",
       "                                     verbosity=None),\n",
       "             n_jobs=1,\n",
       "             param_grid={'max_depth': range(4, 8, 2),\n",
       "                         'min_child_weight': [1, 3]},\n",
       "             verbose=2)"
      ]
     },
     "execution_count": 24,
     "metadata": {},
     "output_type": "execute_result"
    }
   ],
   "source": [
    "from xgboost import XGBClassifier\n",
    "from sklearn.model_selection import GridSearchCV\n",
    "xgb = XGBClassifier(random_state=123)\n",
    "params =  {\n",
    "    'max_depth':range(4,8,2),\n",
    "    'min_child_weight': [1,3]\n",
    "}\n",
    "\n",
    "\n",
    "grid = GridSearchCV(estimator=xgb,\n",
    "                    param_grid=params,\n",
    "                    cv=10,\n",
    "                    n_jobs=1,\n",
    "                    verbose=2)\n",
    "\n",
    "grid.fit(x_train, y_train)"
   ]
  },
  {
   "cell_type": "code",
   "execution_count": 25,
   "metadata": {},
   "outputs": [
    {
     "data": {
      "text/plain": [
       "{'max_depth': 6, 'min_child_weight': 1}"
      ]
     },
     "execution_count": 25,
     "metadata": {},
     "output_type": "execute_result"
    }
   ],
   "source": [
    "grid.best_params_"
   ]
  },
  {
   "cell_type": "code",
   "execution_count": 26,
   "metadata": {},
   "outputs": [
    {
     "name": "stdout",
     "output_type": "stream",
     "text": [
      "Train Accuracy: 93.910%\n",
      "Test Accuracy: 85.242%\n"
     ]
    }
   ],
   "source": [
    "#xgb = XGBClassifier(random_state=123, max_depth=6, min_child_weight=1)\n",
    "xgb = XGBClassifier(**grid.best_params_)\n",
    "xgb.fit(x_train, y_train)\n",
    "xgb_t_accuracy = round(xgb.score(x_test, y_test), 5)\n",
    "print(f\"Train Accuracy: {xgb.score(x_train, y_train)*100:0.3f}%\")\n",
    "print(f\"Test Accuracy: {xgb.score(x_test, y_test)*100:0.3f}%\")"
   ]
  },
  {
   "cell_type": "code",
   "execution_count": 27,
   "metadata": {},
   "outputs": [
    {
     "name": "stdout",
     "output_type": "stream",
     "text": [
      "Classification report: \n",
      "               precision    recall  f1-score   support\n",
      "\n",
      "           0       0.86      0.84      0.85      8250\n",
      "           1       0.84      0.87      0.85      8250\n",
      "\n",
      "    accuracy                           0.85     16500\n",
      "   macro avg       0.85      0.85      0.85     16500\n",
      "weighted avg       0.85      0.85      0.85     16500\n",
      " \n",
      "\n"
     ]
    },
    {
     "data": {
      "text/plain": [
       "Text(0.5, 1.0, 'XGB Confusion matrix')"
      ]
     },
     "execution_count": 27,
     "metadata": {},
     "output_type": "execute_result"
    },
    {
     "data": {
      "image/png": "[encoded data removed]",
      "text/plain": [
       "<Figure size 504x432 with 2 Axes>"
      ]
     },
     "metadata": {
      "needs_background": "light"
     },
     "output_type": "display_data"
    }
   ],
   "source": [
    "predicted_xgb = xgb.predict(x_test)\n",
    "print(\"Classification report: \\n\", classification_report(y_test, predicted_xgb), \"\\n\")\n",
    "\n",
    "matrix = confusion_matrix(y_test, predicted_xgb)\n",
    "plt.figure(figsize = (7,6))\n",
    "sns.heatmap(matrix, annot=True, fmt='g', cmap='Greens')\n",
    "plt.xlabel(\"Predicted\")\n",
    "plt.ylabel(\"Actual\")\n",
    "plt.title(\"XGB Confusion matrix\")"
   ]
  },
  {
   "cell_type": "code",
   "execution_count": 28,
   "metadata": {},
   "outputs": [
    {
     "name": "stdout",
     "output_type": "stream",
     "text": [
      "No Skill: ROC AUC=0.500\n",
      "XGB: ROC AUC=0.930\n"
     ]
    },
    {
     "data": {
      "image/png": "[encoded data removed]",
      "text/plain": [
       "<Figure size 432x288 with 1 Axes>"
      ]
     },
     "metadata": {
      "needs_background": "light"
     },
     "output_type": "display_data"
    }
   ],
   "source": [
    "# predict probabilities\n",
    "xgb_probs = xgb.predict_proba(x_test)\n",
    "# keep probabilities for the positive outcome only\n",
    "xgb_probs = xgb_probs[:, 1]\n",
    "# calculate scores\n",
    "xgb_auc = roc_auc_score(y_test, xgb_probs)\n",
    "# summarize scores\n",
    "print('No Skill: ROC AUC=%.3f' % (ns_auc))\n",
    "print('XGB: ROC AUC=%.3f' % (xgb_auc))\n",
    "# calculate roc curves\n",
    "xgb_fpr, xgb_tpr, _ = roc_curve(y_test, xgb_probs)\n",
    "# plot the roc curve for the model\n",
    "plt.plot(ns_fpr, ns_tpr, color='black', linestyle='dashed')\n",
    "plt.plot(xgb_fpr, xgb_tpr, color='orange', label='XGB')\n",
    "# axis labels\n",
    "plt.xlabel('False Positive Rate')\n",
    "plt.ylabel('True Positive Rate')\n",
    "# show the legend\n",
    "plt.legend()\n",
    "# show the plot\n",
    "plt.show()\n",
    "\n",
    "#plt.savefig('RF_roc_curve.png')"
   ]
  },
  {
   "cell_type": "markdown",
   "metadata": {},
   "source": [
    "### LGBMClassifier"
   ]
  },
  {
   "cell_type": "code",
   "execution_count": 29,
   "metadata": {},
   "outputs": [
    {
     "name": "stdout",
     "output_type": "stream",
     "text": [
      "[LightGBM] [Warning] bagging_fraction is set=0.6, subsample=1.0 will be ignored. Current value: bagging_fraction=0.6\n",
      "[LightGBM] [Warning] bagging_freq is set=5, subsample_freq=0 will be ignored. Current value: bagging_freq=5\n",
      "Train Accuracy: 95.400%\n",
      "Test Accuracy: 86.339%\n"
     ]
    }
   ],
   "source": [
    "import lightgbm as lgb\n",
    "lboost = lgb.LGBMClassifier(num_leaves=80, bagging_fraction=0.6, bagging_freq=5)\n",
    "lboost.fit(x_train, y_train)\n",
    "print(f\"Train Accuracy: {lboost.score(x_train, y_train)*100:0.3f}%\")\n",
    "print(f\"Test Accuracy: {lboost.score(x_test, y_test)*100:0.3f}%\")"
   ]
  },
  {
   "cell_type": "code",
   "execution_count": 30,
   "metadata": {},
   "outputs": [
    {
     "name": "stdout",
     "output_type": "stream",
     "text": [
      "[LightGBM] [Warning] bagging_fraction is set=0.6, subsample=1.0 will be ignored. Current value: bagging_fraction=0.6\n",
      "[LightGBM] [Warning] bagging_freq is set=5, subsample_freq=0 will be ignored. Current value: bagging_freq=5\n"
     ]
    },
    {
     "name": "stderr",
     "output_type": "stream",
     "text": [
      "/Users/isabellaxue/Library/Python/3.8/lib/python/site-packages/lightgbm/engine.py:177: UserWarning: Found `num_iterations` in params. Will use it instead of argument\n",
      "  _log_warning(f\"Found `{alias}` in params. Will use it instead of argument\")\n"
     ]
    },
    {
     "name": "stdout",
     "output_type": "stream",
     "text": [
      "Train Accuracy: 98.934%\n",
      "Test Accuracy: 87.418%\n"
     ]
    }
   ],
   "source": [
    "import lightgbm as lgb\n",
    "lboost = lgb.LGBMClassifier(num_leaves=80, bagging_fraction=0.6, bagging_freq=5,\n",
    "                            learning_rate=0.09, num_iterations=200)\n",
    "lboost.fit(x_train, y_train)\n",
    "print(f\"Train Accuracy: {lboost.score(x_train, y_train)*100:0.3f}%\")\n",
    "print(f\"Test Accuracy: {lboost.score(x_test, y_test)*100:0.3f}%\")"
   ]
  },
  {
   "cell_type": "markdown",
   "metadata": {},
   "source": [
    "#### Original: have 'num_leaves': [80]\n",
    "OVERFIT!!"
   ]
  },
  {
   "cell_type": "code",
   "execution_count": 31,
   "metadata": {
    "scrolled": true
   },
   "outputs": [
    {
     "name": "stdout",
     "output_type": "stream",
     "text": [
      "Fitting 5 folds for each of 6 candidates, totalling 30 fits\n"
     ]
    },
    {
     "name": "stderr",
     "output_type": "stream",
     "text": [
      "/Users/isabellaxue/Library/Python/3.8/lib/python/site-packages/sklearn/model_selection/_search.py:292: UserWarning: The total space of parameters 6 is smaller than n_iter=10. Running 6 iterations. For exhaustive searches, use GridSearchCV.\n",
      "  warnings.warn(\n",
      "/Users/isabellaxue/Library/Python/3.8/lib/python/site-packages/lightgbm/engine.py:177: UserWarning: Found `num_iterations` in params. Will use it instead of argument\n",
      "  _log_warning(f\"Found `{alias}` in params. Will use it instead of argument\")\n"
     ]
    },
    {
     "name": "stdout",
     "output_type": "stream",
     "text": [
      "[LightGBM] [Warning] bagging_fraction is set=0.6, subsample=1.0 will be ignored. Current value: bagging_fraction=0.6\n",
      "[LightGBM] [Warning] bagging_freq is set=5, subsample_freq=0 will be ignored. Current value: bagging_freq=5\n",
      "Best params:\n",
      "\tnum_leaves: 80\n",
      "\tnum_iterations: 200\n",
      "\tlearning_rate: 0.1\n",
      "\tbagging_freq: 5\n",
      "\tbagging_fraction: 0.6\n"
     ]
    }
   ],
   "source": [
    "import lightgbm as lgb\n",
    "from sklearn.model_selection import RandomizedSearchCV\n",
    "grid_params = {\n",
    "    'num_leaves': [80],\n",
    "    'bagging_fraction': [0.6],\n",
    "    'bagging_freq': [5], \n",
    "    'learning_rate' : [0.01,0.05,0.1],\n",
    "    'num_iterations' : [100,200]}\n",
    "\n",
    "lboost = lgb.LGBMClassifier()\n",
    "random_s = RandomizedSearchCV(lboost, grid_params, random_state = 123, n_jobs = -1, verbose = 1)\n",
    "random_s.fit(x_train,y_train)\n",
    "\n",
    "print(\"Best params:\")\n",
    "\n",
    "for key, value in random_s.best_params_.items():\n",
    "    print(f\"\\t{key}: {value}\")"
   ]
  },
  {
   "cell_type": "code",
   "execution_count": 32,
   "metadata": {},
   "outputs": [
    {
     "name": "stderr",
     "output_type": "stream",
     "text": [
      "/Users/isabellaxue/Library/Python/3.8/lib/python/site-packages/lightgbm/engine.py:177: UserWarning: Found `num_iterations` in params. Will use it instead of argument\n",
      "  _log_warning(f\"Found `{alias}` in params. Will use it instead of argument\")\n"
     ]
    },
    {
     "name": "stdout",
     "output_type": "stream",
     "text": [
      "Training Accuracy: 99.301%\n",
      "Test Accuracy: 87.467%\n"
     ]
    }
   ],
   "source": [
    "lboost_op = lgb.LGBMClassifier(**random_s.best_params_)\n",
    "lboost_op.fit(x_train, y_train)\n",
    "lboost_t_accuracy = round(lboost_op.score(x_test, y_test), 5)\n",
    "print(f\"Training Accuracy: {lboost_op.score(x_train, y_train)*100:0.3f}%\")\n",
    "print(f\"Test Accuracy: {lboost_op.score(x_test, y_test)*100:0.3f}%\")"
   ]
  },
  {
   "cell_type": "markdown",
   "metadata": {},
   "source": [
    "#### Current: NO 'num_leaves': [80]\n",
    "OVERFIT resolved!!"
   ]
  },
  {
   "cell_type": "code",
   "execution_count": 33,
   "metadata": {},
   "outputs": [
    {
     "name": "stdout",
     "output_type": "stream",
     "text": [
      "Fitting 5 folds for each of 6 candidates, totalling 30 fits\n"
     ]
    },
    {
     "name": "stderr",
     "output_type": "stream",
     "text": [
      "/Users/isabellaxue/Library/Python/3.8/lib/python/site-packages/sklearn/model_selection/_search.py:292: UserWarning: The total space of parameters 6 is smaller than n_iter=10. Running 6 iterations. For exhaustive searches, use GridSearchCV.\n",
      "  warnings.warn(\n",
      "/Users/isabellaxue/Library/Python/3.8/lib/python/site-packages/lightgbm/engine.py:177: UserWarning: Found `num_iterations` in params. Will use it instead of argument\n",
      "  _log_warning(f\"Found `{alias}` in params. Will use it instead of argument\")\n"
     ]
    },
    {
     "name": "stdout",
     "output_type": "stream",
     "text": [
      "[LightGBM] [Warning] bagging_fraction is set=0.6, subsample=1.0 will be ignored. Current value: bagging_fraction=0.6\n",
      "[LightGBM] [Warning] bagging_freq is set=5, subsample_freq=0 will be ignored. Current value: bagging_freq=5\n",
      "Best params:\n",
      "\tnum_iterations: 200\n",
      "\tlearning_rate: 0.1\n",
      "\tbagging_freq: 5\n",
      "\tbagging_fraction: 0.6\n"
     ]
    }
   ],
   "source": [
    "import lightgbm as lgb\n",
    "from sklearn.model_selection import RandomizedSearchCV\n",
    "grid_params = {\n",
    "    'bagging_fraction': [0.6],\n",
    "    'bagging_freq': [5], \n",
    "    'learning_rate' : [0.01,0.05,0.1],\n",
    "    'num_iterations' : [100,200]}\n",
    "\n",
    "lboost = lgb.LGBMClassifier()\n",
    "random_s = RandomizedSearchCV(lboost, grid_params, random_state = 123, n_jobs = -1, verbose = 1)\n",
    "random_s.fit(x_train,y_train)\n",
    "\n",
    "print(\"Best params:\")\n",
    "\n",
    "for key, value in random_s.best_params_.items():\n",
    "    print(f\"\\t{key}: {value}\")"
   ]
  },
  {
   "cell_type": "code",
   "execution_count": 34,
   "metadata": {},
   "outputs": [
    {
     "name": "stderr",
     "output_type": "stream",
     "text": [
      "/Users/isabellaxue/Library/Python/3.8/lib/python/site-packages/lightgbm/engine.py:177: UserWarning: Found `num_iterations` in params. Will use it instead of argument\n",
      "  _log_warning(f\"Found `{alias}` in params. Will use it instead of argument\")\n"
     ]
    },
    {
     "name": "stdout",
     "output_type": "stream",
     "text": [
      "Training Accuracy: 93.725%\n",
      "Test Accuracy: 87.218%\n"
     ]
    }
   ],
   "source": [
    "lboost_op = lgb.LGBMClassifier(**random_s.best_params_)\n",
    "lboost_op.fit(x_train, y_train)\n",
    "#lboost_t_accuracy = round(lboost_op.score(x_test, y_test), 5)\n",
    "print(f\"Training Accuracy: {lboost_op.score(x_train, y_train)*100:0.3f}%\")\n",
    "print(f\"Test Accuracy: {lboost_op.score(x_test, y_test)*100:0.3f}%\")"
   ]
  },
  {
   "cell_type": "code",
   "execution_count": 35,
   "metadata": {},
   "outputs": [
    {
     "name": "stdout",
     "output_type": "stream",
     "text": [
      "Classification report: \n",
      "               precision    recall  f1-score   support\n",
      "\n",
      "           0       0.88      0.86      0.87      8250\n",
      "           1       0.86      0.88      0.87      8250\n",
      "\n",
      "    accuracy                           0.87     16500\n",
      "   macro avg       0.87      0.87      0.87     16500\n",
      "weighted avg       0.87      0.87      0.87     16500\n",
      " \n",
      "\n"
     ]
    },
    {
     "data": {
      "text/plain": [
       "Text(0.5, 1.0, 'lightgbm Confusion matrix')"
      ]
     },
     "execution_count": 35,
     "metadata": {},
     "output_type": "execute_result"
    },
    {
     "data": {
      "image/png": "[encoded data removed]",
      "text/plain": [
       "<Figure size 504x432 with 2 Axes>"
      ]
     },
     "metadata": {
      "needs_background": "light"
     },
     "output_type": "display_data"
    }
   ],
   "source": [
    "predicted_lb = lboost_op.predict(x_test)\n",
    "print(\"Classification report: \\n\", classification_report(y_test, predicted_lb), \"\\n\")\n",
    "\n",
    "matrix = confusion_matrix(y_test, predicted_lb)\n",
    "plt.figure(figsize = (7,6))\n",
    "sns.heatmap(matrix, annot=True, fmt='g', cmap='Greens')\n",
    "plt.xlabel(\"Predicted\")\n",
    "plt.ylabel(\"Actual\")\n",
    "plt.title(\"lightgbm Confusion matrix\")"
   ]
  },
  {
   "cell_type": "code",
   "execution_count": 36,
   "metadata": {},
   "outputs": [
    {
     "name": "stdout",
     "output_type": "stream",
     "text": [
      "No Skill: ROC AUC=0.500\n",
      "LGBM: ROC AUC=0.945\n"
     ]
    },
    {
     "data": {
      "image/png": "[encoded data removed]",
      "text/plain": [
       "<Figure size 432x288 with 1 Axes>"
      ]
     },
     "metadata": {
      "needs_background": "light"
     },
     "output_type": "display_data"
    }
   ],
   "source": [
    "# predict probabilities\n",
    "lb_probs = lboost_op.predict_proba(x_test)\n",
    "# keep probabilities for the positive outcome only\n",
    "lb_probs = lb_probs[:, 1]\n",
    "# calculate scores\n",
    "lb_auc = roc_auc_score(y_test, lb_probs)\n",
    "# summarize scores\n",
    "print('No Skill: ROC AUC=%.3f' % (ns_auc))\n",
    "print('LGBM: ROC AUC=%.3f' % (lb_auc))\n",
    "# calculate roc curves\n",
    "lb_fpr, lb_tpr, _ = roc_curve(y_test, lb_probs)\n",
    "# plot the roc curve for the model\n",
    "plt.plot(ns_fpr, ns_tpr, color='black', linestyle='dashed')\n",
    "plt.plot(lb_fpr, lb_tpr, color='red', label='LGBM')\n",
    "# axis labels\n",
    "plt.xlabel('False Positive Rate')\n",
    "plt.ylabel('True Positive Rate')\n",
    "# show the legend\n",
    "plt.legend()\n",
    "# show the plot\n",
    "plt.show()\n",
    "\n",
    "#plt.savefig('RF_roc_curve.png')"
   ]
  },
  {
   "cell_type": "markdown",
   "metadata": {},
   "source": [
    "### Stacking"
   ]
  },
  {
   "cell_type": "markdown",
   "metadata": {},
   "source": [
    "#### Current \n",
    "OVERFITTING resolved!!"
   ]
  },
  {
   "cell_type": "code",
   "execution_count": 37,
   "metadata": {},
   "outputs": [
    {
     "name": "stdout",
     "output_type": "stream",
     "text": [
      "Train Accuracy: 93.310%\n",
      "Test Accuracy: 88.909%\n"
     ]
    }
   ],
   "source": [
    "from sklearn.ensemble import StackingClassifier\n",
    "estimators = [('lr_model', lr_model),\n",
    "              ('xgb', xgb),\n",
    "              ('lboost_op', lboost)]\n",
    "\n",
    "sclf = StackingClassifier(estimators=estimators,\n",
    "                          final_estimator=LogisticRegression(),\n",
    "                          cv=10)\n",
    "\n",
    "\n",
    "sclf.fit(x_train, y_train)\n",
    "print(f\"Train Accuracy: {sclf.score(x_train, y_train)*100:0.3f}%\")\n",
    "print(f\"Test Accuracy: {sclf.score(x_test, y_test)*100:0.3f}%\")"
   ]
  },
  {
   "cell_type": "code",
   "execution_count": 38,
   "metadata": {},
   "outputs": [],
   "source": [
    "stacking_t_accuracy = round(sclf.score(x_test, y_test), 5)"
   ]
  },
  {
   "cell_type": "code",
   "execution_count": 39,
   "metadata": {},
   "outputs": [
    {
     "name": "stdout",
     "output_type": "stream",
     "text": [
      "Classification report: \n",
      "               precision    recall  f1-score   support\n",
      "\n",
      "           0       0.90      0.88      0.89      8250\n",
      "           1       0.88      0.90      0.89      8250\n",
      "\n",
      "    accuracy                           0.89     16500\n",
      "   macro avg       0.89      0.89      0.89     16500\n",
      "weighted avg       0.89      0.89      0.89     16500\n",
      " \n",
      "\n"
     ]
    },
    {
     "data": {
      "text/plain": [
       "Text(0.5, 1.0, 'Stacking Confusion matrix')"
      ]
     },
     "execution_count": 39,
     "metadata": {},
     "output_type": "execute_result"
    },
    {
     "data": {
      "image/png": "[encoded data removed]",
      "text/plain": [
       "<Figure size 504x432 with 2 Axes>"
      ]
     },
     "metadata": {
      "needs_background": "light"
     },
     "output_type": "display_data"
    }
   ],
   "source": [
    "predicted_stac = sclf.predict(x_test)\n",
    "print(\"Classification report: \\n\", classification_report(y_test, predicted_stac), \"\\n\")\n",
    "\n",
    "matrix = confusion_matrix(y_test, predicted_stac)\n",
    "plt.figure(figsize = (7,6))\n",
    "sns.heatmap(matrix, annot=True, fmt='g', cmap='Greens')\n",
    "plt.xlabel(\"Predicted\")\n",
    "plt.ylabel(\"Actual\")\n",
    "plt.title(\"Stacking Confusion matrix\")"
   ]
  },
  {
   "cell_type": "code",
   "execution_count": 40,
   "metadata": {},
   "outputs": [
    {
     "name": "stdout",
     "output_type": "stream",
     "text": [
      "No Skill: ROC AUC=0.500\n",
      "Stacking: ROC AUC=0.956\n"
     ]
    },
    {
     "data": {
      "image/png": "[encoded data removed]",
      "text/plain": [
       "<Figure size 432x288 with 1 Axes>"
      ]
     },
     "metadata": {
      "needs_background": "light"
     },
     "output_type": "display_data"
    }
   ],
   "source": [
    "# predict probabilities\n",
    "stacking_probs = sclf.predict_proba(x_test)\n",
    "# keep probabilities for the positive outcome only\n",
    "stacking_probs = stacking_probs[:, 1]\n",
    "# calculate scores\n",
    "stacking_auc = roc_auc_score(y_test, stacking_probs)\n",
    "# summarize scores\n",
    "print('No Skill: ROC AUC=%.3f' % (ns_auc))\n",
    "print('Stacking: ROC AUC=%.3f' % (stacking_auc))\n",
    "# calculate roc curves\n",
    "stacking_fpr, stacking_tpr, _ = roc_curve(y_test, stacking_probs)\n",
    "# plot the roc curve for the model\n",
    "plt.plot(ns_fpr, ns_tpr, color='black', linestyle='dashed')\n",
    "plt.plot(stacking_fpr, stacking_tpr, color='grey', label='Stacking')\n",
    "# axis labels\n",
    "plt.xlabel('False Positive Rate')\n",
    "plt.ylabel('True Positive Rate')\n",
    "# show the legend\n",
    "plt.legend()\n",
    "# show the plot\n",
    "plt.show()\n",
    "\n",
    "#plt.savefig('RF_roc_curve.png')"
   ]
  },
  {
   "cell_type": "markdown",
   "metadata": {},
   "source": [
    "### Voting classifier"
   ]
  },
  {
   "cell_type": "code",
   "execution_count": 41,
   "metadata": {},
   "outputs": [
    {
     "name": "stderr",
     "output_type": "stream",
     "text": [
      "/Users/isabellaxue/Library/Python/3.8/lib/python/site-packages/lightgbm/engine.py:177: UserWarning: Found `num_iterations` in params. Will use it instead of argument\n",
      "  _log_warning(f\"Found `{alias}` in params. Will use it instead of argument\")\n"
     ]
    },
    {
     "name": "stdout",
     "output_type": "stream",
     "text": [
      "[LightGBM] [Warning] bagging_fraction is set=0.6, subsample=1.0 will be ignored. Current value: bagging_fraction=0.6\n",
      "[LightGBM] [Warning] bagging_freq is set=5, subsample_freq=0 will be ignored. Current value: bagging_freq=5\n",
      "Train Accuracy: 94.173%\n",
      "Test Accuracy: 88.418%\n"
     ]
    }
   ],
   "source": [
    "eclf = VotingClassifier(estimators=[('lboost_op', lboost_op), ('xgb', xgb), ('lr_model', lr_model)], voting='soft', weights=[2,1,3])\n",
    "eclf.fit(x_train, y_train) \n",
    "print(f\"Train Accuracy: {eclf.score(x_train, y_train)*100:0.3f}%\")\n",
    "print(f\"Test Accuracy: {eclf.score(x_test, y_test)*100:0.3f}%\")"
   ]
  },
  {
   "cell_type": "code",
   "execution_count": 42,
   "metadata": {},
   "outputs": [],
   "source": [
    "eclf_t_accuracy = round(eclf.score(x_test, y_test), 5)\n",
    "predicted_voting = eclf.predict(x_test)"
   ]
  },
  {
   "cell_type": "code",
   "execution_count": 43,
   "metadata": {},
   "outputs": [
    {
     "name": "stdout",
     "output_type": "stream",
     "text": [
      "No Skill: ROC AUC=0.500\n",
      "Voting: ROC AUC=0.955\n"
     ]
    },
    {
     "data": {
      "image/png": "[encoded data removed]",
      "text/plain": [
       "<Figure size 432x288 with 1 Axes>"
      ]
     },
     "metadata": {
      "needs_background": "light"
     },
     "output_type": "display_data"
    }
   ],
   "source": [
    "# predict probabilities\n",
    "voting_probs = eclf.predict_proba(x_test)\n",
    "# keep probabilities for the positive outcome only\n",
    "voting_probs = voting_probs[:, 1]\n",
    "# calculate scores\n",
    "voting_auc = roc_auc_score(y_test, voting_probs)\n",
    "# summarize scores\n",
    "print('No Skill: ROC AUC=%.3f' % (ns_auc))\n",
    "print('Voting: ROC AUC=%.3f' % (voting_auc))\n",
    "# calculate roc curves\n",
    "voting_fpr, voting_tpr, _ = roc_curve(y_test, voting_probs)\n",
    "# plot the roc curve for the model\n",
    "plt.plot(ns_fpr, ns_tpr, color='black', linestyle='dashed')\n",
    "plt.plot(voting_fpr, voting_tpr, color='purple', label='Voting')\n",
    "# axis labels\n",
    "plt.xlabel('False Positive Rate')\n",
    "plt.ylabel('True Positive Rate')\n",
    "# show the legend\n",
    "plt.legend()\n",
    "# show the plot\n",
    "plt.show()\n",
    "\n",
    "#plt.savefig('RF_roc_curve.png')"
   ]
  },
  {
   "cell_type": "markdown",
   "metadata": {},
   "source": [
    "### ROC curve"
   ]
  },
  {
   "cell_type": "code",
   "execution_count": 44,
   "metadata": {},
   "outputs": [
    {
     "data": {
      "image/png": "[encoded data removed]",
      "text/plain": [
       "<Figure size 432x288 with 1 Axes>"
      ]
     },
     "metadata": {
      "needs_background": "light"
     },
     "output_type": "display_data"
    }
   ],
   "source": [
    "# plot the roc curve for the model\n",
    "plt.plot(ns_fpr, ns_tpr, color='black', linestyle='dashed')\n",
    "plt.plot(lr_fpr, lr_tpr, color='green', label='Logistic')\n",
    "plt.plot(lb_fpr, lb_tpr, color='red', label='LGBM')\n",
    "plt.plot(stacking_fpr, stacking_tpr, color='blue', label='Stacking')\n",
    "plt.plot(voting_fpr, voting_tpr, color='pink', label='Voting')\n",
    "# axis labels\n",
    "plt.xlabel('False Positive Rate')\n",
    "plt.ylabel('True Positive Rate')\n",
    "# show the legend\n",
    "plt.legend()\n",
    "# show the plot\n",
    "plt.show()\n"
   ]
  },
  {
   "cell_type": "markdown",
   "metadata": {},
   "source": [
    "## Supervised learning summary table"
   ]
  },
  {
   "cell_type": "code",
   "execution_count": 45,
   "metadata": {
    "scrolled": true
   },
   "outputs": [
    {
     "data": {
      "text/html": [
       "<div>\n",
       "<style scoped>\n",
       "    .dataframe tbody tr th:only-of-type {\n",
       "        vertical-align: middle;\n",
       "    }\n",
       "\n",
       "    .dataframe tbody tr th {\n",
       "        vertical-align: top;\n",
       "    }\n",
       "\n",
       "    .dataframe thead th {\n",
       "        text-align: right;\n",
       "    }\n",
       "</style>\n",
       "<table border=\"1\" class=\"dataframe\">\n",
       "  <thead>\n",
       "    <tr style=\"text-align: right;\">\n",
       "      <th></th>\n",
       "      <th>Hyperparameter</th>\n",
       "      <th>Accuracy</th>\n",
       "    </tr>\n",
       "    <tr>\n",
       "      <th>Model</th>\n",
       "      <th></th>\n",
       "      <th></th>\n",
       "    </tr>\n",
       "  </thead>\n",
       "  <tbody>\n",
       "    <tr>\n",
       "      <th>LogisticRegression</th>\n",
       "      <td>C=1.0, penalty=l2, solver=newton-cg</td>\n",
       "      <td>0.88842</td>\n",
       "    </tr>\n",
       "    <tr>\n",
       "      <th>RandomForestClassifier</th>\n",
       "      <td>-</td>\n",
       "      <td>0.84994</td>\n",
       "    </tr>\n",
       "    <tr>\n",
       "      <th>XGBClassifier</th>\n",
       "      <td>max_depth=6, min_child_weight=1</td>\n",
       "      <td>0.85242</td>\n",
       "    </tr>\n",
       "    <tr>\n",
       "      <th>LGBMClassifier</th>\n",
       "      <td>num_iterations=200, learning_rate=0.1, bagging...</td>\n",
       "      <td>0.87467</td>\n",
       "    </tr>\n",
       "    <tr>\n",
       "      <th>StackingClassifier (Logistic regression, XGB, LGBM)</th>\n",
       "      <td>-</td>\n",
       "      <td>0.88909</td>\n",
       "    </tr>\n",
       "    <tr>\n",
       "      <th>VotingClassifier (Logistic regression, XGB, LGBM)</th>\n",
       "      <td>voting=soft, weights=[3,1,2]</td>\n",
       "      <td>0.88418</td>\n",
       "    </tr>\n",
       "  </tbody>\n",
       "</table>\n",
       "</div>"
      ],
      "text/plain": [
       "                                                                                       Hyperparameter  \\\n",
       "Model                                                                                                   \n",
       "LogisticRegression                                                C=1.0, penalty=l2, solver=newton-cg   \n",
       "RandomForestClassifier                                                                              -   \n",
       "XGBClassifier                                                         max_depth=6, min_child_weight=1   \n",
       "LGBMClassifier                                      num_iterations=200, learning_rate=0.1, bagging...   \n",
       "StackingClassifier (Logistic regression, XGB, L...                                                  -   \n",
       "VotingClassifier (Logistic regression, XGB, LGBM)                        voting=soft, weights=[3,1,2]   \n",
       "\n",
       "                                                    Accuracy  \n",
       "Model                                                         \n",
       "LogisticRegression                                   0.88842  \n",
       "RandomForestClassifier                               0.84994  \n",
       "XGBClassifier                                        0.85242  \n",
       "LGBMClassifier                                       0.87467  \n",
       "StackingClassifier (Logistic regression, XGB, L...   0.88909  \n",
       "VotingClassifier (Logistic regression, XGB, LGBM)    0.88418  "
      ]
     },
     "execution_count": 45,
     "metadata": {},
     "output_type": "execute_result"
    }
   ],
   "source": [
    "d = {'Model': ['LogisticRegression','RandomForestClassifier','XGBClassifier', \n",
    "               'LGBMClassifier', 'StackingClassifier (Logistic regression, XGB, LGBM)', \n",
    "               'VotingClassifier (Logistic regression, XGB, LGBM)'], \n",
    "      'Hyperparameter': ['C=1.0, penalty=l2, solver=newton-cg',\n",
    "                         '-','max_depth=6, min_child_weight=1', \n",
    "                         'num_iterations=200, learning_rate=0.1, bagging_freq=5, bagging_fraction=0.6',\n",
    "                         '-','voting=soft, weights=[3,1,2]'], \n",
    "      'Accuracy': [lr_t_accuracy, rf_t_accuracy, xgb_t_accuracy, lboost_t_accuracy, \n",
    "                   stacking_t_accuracy, eclf_t_accuracy]} \n",
    "\n",
    "df = pd.DataFrame(d).set_index('Model')\n",
    "df"
   ]
  },
  {
   "cell_type": "markdown",
   "metadata": {},
   "source": [
    "### Learning curve"
   ]
  },
  {
   "cell_type": "code",
   "execution_count": 46,
   "metadata": {},
   "outputs": [],
   "source": [
    "import numpy as np\n",
    "import matplotlib.pyplot as plt\n",
    "from sklearn.model_selection import learning_curve\n",
    "from sklearn.model_selection import ShuffleSplit\n",
    "\n",
    "\n",
    "def plot_learning_curve(estimator,title,X,y,axes=None,ylim=None,cv=None,n_jobs=None, \n",
    "                        train_sizes=np.linspace(0.1, 1.0, 5)):\n",
    "    \n",
    "    _, axes = plt.subplots()\n",
    "\n",
    "    axes.set_title(title)\n",
    "    if ylim is not None:\n",
    "        axes.set_ylim(*ylim)\n",
    "    axes.set_xlabel(\"Training examples\")\n",
    "    axes.set_ylabel(\"Score\")\n",
    "\n",
    "    train_sizes, train_scores, test_scores, fit_times, _ = learning_curve(\n",
    "        estimator,\n",
    "        X,\n",
    "        y,\n",
    "        cv=cv,\n",
    "        n_jobs=n_jobs,\n",
    "        train_sizes=train_sizes,\n",
    "        return_times=True,\n",
    "    )\n",
    "    train_scores_mean = np.mean(train_scores, axis=1)\n",
    "    train_scores_std = np.std(train_scores, axis=1)\n",
    "    test_scores_mean = np.mean(test_scores, axis=1)\n",
    "    test_scores_std = np.std(test_scores, axis=1)\n",
    "    fit_times_mean = np.mean(fit_times, axis=1)\n",
    "    fit_times_std = np.std(fit_times, axis=1)\n",
    "\n",
    "    # Plot learning curve\n",
    "    axes.grid()\n",
    "    axes.fill_between(\n",
    "        train_sizes,\n",
    "        train_scores_mean - train_scores_std,\n",
    "        train_scores_mean + train_scores_std,\n",
    "        alpha=0.1,\n",
    "        color=\"r\",\n",
    "    )\n",
    "    axes.fill_between(\n",
    "        train_sizes,\n",
    "        test_scores_mean - test_scores_std,\n",
    "        test_scores_mean + test_scores_std,\n",
    "        alpha=0.1,\n",
    "        color=\"g\",\n",
    "    )\n",
    "    axes.plot(\n",
    "        train_sizes, train_scores_mean, \"o-\", color=\"r\", label=\"Training score\"\n",
    "    )\n",
    "    axes.plot(\n",
    "        train_sizes, test_scores_mean, \"o-\", color=\"g\", label=\"Cross-validation score\"\n",
    "    )\n",
    "    axes.legend(loc=\"best\")\n",
    "\n",
    "    return plt\n"
   ]
  },
  {
   "cell_type": "code",
   "execution_count": 47,
   "metadata": {},
   "outputs": [
    {
     "data": {
      "image/png": "[encoded data removed]",
      "text/plain": [
       "<Figure size 432x288 with 1 Axes>"
      ]
     },
     "metadata": {
      "needs_background": "light"
     },
     "output_type": "display_data"
    },
    {
     "data": {
      "text/plain": [
       "<Figure size 432x288 with 0 Axes>"
      ]
     },
     "metadata": {},
     "output_type": "display_data"
    }
   ],
   "source": [
    "#fig, axes = plt.subplots()\n",
    "title = \"Logistic Regression\"\n",
    "# Cross validation with 100 iterations to get smoother mean test and train\n",
    "# score curves, each time with 20% data randomly selected as a validation set.\n",
    "cv = ShuffleSplit(n_splits=100, test_size=0.2, random_state=123)\n",
    "plot_learning_curve(lr_model, title, x_train, y_train, ylim=(0.7, 1.01), cv=cv, n_jobs=4)\n",
    "plt.show()\n",
    "plt.savefig('LR_learning_curve.png')"
   ]
  },
  {
   "cell_type": "markdown",
   "metadata": {},
   "source": [
    "### McNemar’s test"
   ]
  },
  {
   "cell_type": "markdown",
   "metadata": {},
   "source": [
    "##### Logistic regression vs. Stacking"
   ]
  },
  {
   "cell_type": "code",
   "execution_count": 52,
   "metadata": {},
   "outputs": [
    {
     "name": "stdout",
     "output_type": "stream",
     "text": [
      "[[14563    96]\n",
      " [  107  1734]]\n"
     ]
    }
   ],
   "source": [
    "import numpy as np\n",
    "from mlxtend.evaluate import mcnemar_table\n",
    "\n",
    "y_target = np.array(y_test)\n",
    "y_logistic = np.array(predicted_lr)\n",
    "y_stacking = np.array(predicted_stac)\n",
    "\n",
    "tb = mcnemar_table(y_target=y_target, \n",
    "                   y_model1=y_logistic, \n",
    "                   y_model2=y_stacking)\n",
    "\n",
    "print(tb)"
   ]
  },
  {
   "cell_type": "code",
   "execution_count": 53,
   "metadata": {},
   "outputs": [
    {
     "name": "stdout",
     "output_type": "stream",
     "text": [
      "statistic=96.000, p-value=0.48286\n",
      "Same proportions of errors (fail to reject H0)\n"
     ]
    }
   ],
   "source": [
    "from statsmodels.stats.contingency_tables import mcnemar\n",
    "\n",
    "# calculate mcnemar test\n",
    "result = mcnemar(tb)\n",
    "# summarize the finding\n",
    "print('statistic=%.3f, p-value=%.5f' % (result.statistic, result.pvalue))\n",
    "# interpret the p-value\n",
    "alpha = 0.05\n",
    "if result.pvalue > alpha:\n",
    "    print('Same proportions of errors (fail to reject H0)')\n",
    "else:\n",
    "    print('Different proportions of errors (reject H0)')"
   ]
  },
  {
   "cell_type": "markdown",
   "metadata": {},
   "source": [
    "##### Stacking vs. Voting"
   ]
  },
  {
   "cell_type": "code",
   "execution_count": 50,
   "metadata": {},
   "outputs": [
    {
     "name": "stdout",
     "output_type": "stream",
     "text": [
      "[[14293   366]\n",
      " [  296  1545]]\n"
     ]
    }
   ],
   "source": [
    "y_target = np.array(y_test)\n",
    "y_logistic = np.array(predicted_lr)\n",
    "y_voting = np.array(predicted_voting)\n",
    "\n",
    "tb = mcnemar_table(y_target=y_target, \n",
    "                   y_model1=y_logistic, \n",
    "                   y_model2=y_voting)\n",
    "\n",
    "print(tb)"
   ]
  },
  {
   "cell_type": "code",
   "execution_count": 51,
   "metadata": {},
   "outputs": [
    {
     "name": "stdout",
     "output_type": "stream",
     "text": [
      "statistic=296.000, p-value=0.00728\n",
      "Different proportions of errors (reject H0)\n"
     ]
    }
   ],
   "source": [
    "# calculate mcnemar test\n",
    "result = mcnemar(tb)\n",
    "# summarize the finding\n",
    "print('statistic=%.3f, p-value=%.5f' % (result.statistic, result.pvalue))\n",
    "# interpret the p-value\n",
    "alpha = 0.05\n",
    "if result.pvalue > alpha:\n",
    "    print('Same proportions of errors (fail to reject H0)')\n",
    "else:\n",
    "    print('Different proportions of errors (reject H0)')"
   ]
  }
 ],
 "metadata": {
  "kernelspec": {
   "display_name": "Python 3",
   "language": "python",
   "name": "python3"
  },
  "language_info": {
   "codemirror_mode": {
    "name": "ipython",
    "version": 3
   },
   "file_extension": ".py",
   "mimetype": "text/x-python",
   "name": "python",
   "nbconvert_exporter": "python",
   "pygments_lexer": "ipython3",
   "version": "3.8.1"
  }
 },
 "nbformat": 4,
 "nbformat_minor": 4
}
